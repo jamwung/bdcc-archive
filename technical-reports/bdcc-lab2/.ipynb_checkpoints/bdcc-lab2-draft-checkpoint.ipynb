{
 "cells": [
  {
   "cell_type": "code",
   "execution_count": 1,
   "id": "4654b647",
   "metadata": {
    "ExecuteTime": {
     "end_time": "2023-06-12T07:26:57.820954Z",
     "start_time": "2023-06-12T07:26:57.802493Z"
    }
   },
   "outputs": [
    {
     "data": {
      "text/html": [
       "<script src = \"require.js\" > </script >\n"
      ],
      "text/plain": [
       "<IPython.core.display.HTML object>"
      ]
     },
     "metadata": {},
     "output_type": "display_data"
    }
   ],
   "source": [
    "%%HTML\n",
    "<script src = \"require.js\" > </script >"
   ]
  },
  {
   "cell_type": "code",
   "execution_count": 2,
   "id": "e982e2df",
   "metadata": {
    "ExecuteTime": {
     "end_time": "2023-06-12T07:26:58.511647Z",
     "start_time": "2023-06-12T07:26:58.495701Z"
    }
   },
   "outputs": [
    {
     "data": {
      "text/html": [
       "<script src=\"https://cdnjs.cloudflare.com/ajax/libs/jquery/2.0.3/jquery.min.js \"></script><script>\n",
       "code_show=true; \n",
       "function code_toggle() {\n",
       "if (code_show){\n",
       "$('div.jp-CodeCell > div.jp-Cell-inputWrapper').hide();\n",
       "} else {\n",
       "$('div.jp-CodeCell > div.jp-Cell-inputWrapper').show();\n",
       "}\n",
       "code_show = !code_show\n",
       "} \n",
       "$( document ).ready(code_toggle);</script><form action=\"javascript:code_toggle()\"><input type=\"submit\" value=\"Click here to toggle on/off the raw code.\"></form>\n"
      ],
      "text/plain": [
       "<IPython.core.display.HTML object>"
      ]
     },
     "execution_count": 2,
     "metadata": {},
     "output_type": "execute_result"
    }
   ],
   "source": [
    "from IPython.display import HTML, display, display_html\n",
    "\n",
    "HTML(\"\"\"<style>\n",
    ".output_png {\n",
    "    display: table-cell;\n",
    "    text-align: center;\n",
    "    vertical-align: middle;\n",
    "}\n",
    "</style>\n",
    "\"\"\")\n",
    "\n",
    "HTML('''<script src=\"https://cdnjs.cloudflare.com/ajax/libs/jquery/2.0.3/jquery.min.js \"></script><script>\n",
    "code_show=true; \n",
    "function code_toggle() {\n",
    "if (code_show){\n",
    "$('div.jp-CodeCell > div.jp-Cell-inputWrapper').hide();\n",
    "} else {\n",
    "$('div.jp-CodeCell > div.jp-Cell-inputWrapper').show();\n",
    "}\n",
    "code_show = !code_show\n",
    "} \n",
    "$( document ).ready(code_toggle);</script><form action=\"javascript:code_toggle()\"><input type=\"submit\" value=\"Click here to toggle on/off the raw code.\"></form>\n",
    "''')"
   ]
  },
  {
   "cell_type": "code",
   "execution_count": null,
   "id": "06ed5bd8",
   "metadata": {},
   "outputs": [],
   "source": [
    "# imports\n",
    "\n",
    "import pyspark.pandas as ps\n",
    "from pyspark.sql import SparkSession\n",
    "import pyspark.sql.functions as F\n",
    "\n",
    "import plotly.graph_objects as go\n",
    "import plotly\n",
    "import json\n",
    "import warnings\n",
    "warnings.filterwarnings(\"ignore\")"
   ]
  },
  {
   "cell_type": "markdown",
   "id": "c9313732",
   "metadata": {
    "ExecuteTime": {
     "end_time": "2023-06-12T10:06:32.205079Z",
     "start_time": "2023-06-12T10:06:32.192383Z"
    }
   },
   "source": [
    "<center><img src=\"figures/header.png\" height=\"2098\" width=\"1098\"/></center>"
   ]
  },
  {
   "cell_type": "markdown",
   "id": "d6a24eae",
   "metadata": {},
   "source": [
    "<h1 style=\"color: #8936E0\"><b>Executive Summary</b></h1>\n",
    "\n",
    "<p style=\"text-align: justify\">\n",
    "&emsp; Our project aims at leveraging big data analytics and cloud computing to make sense of the burgeoning body of COVID-19 related scientific literature. The objective was to use this wealth of data to identify key trends and shifts in research focus in the context of the ongoing pandemic.\n",
    "</p>\n",
    "\n",
    "<p style=\"text-align: justify\">\n",
    "&emsp; Our methodology involved utilizing the COVID-19 Open Research Dataset (CORD-19), a rich repository of scientific articles pertaining to COVID-19. The raw data was first transformed into a format suitable for distributed systems and subsequently loaded onto Amazon EMR clusters via Apache Spark. We then proceeded to carry out exploratory data analysis to answer three main questions – Who were the top contributors, which were the top contributing institutions, and which were the top contributing countries in the arena of COVID-19 research.\n",
    "</p>\n",
    "\n",
    "<p style=\"text-align: justify\">\n",
    "&emsp; The results, encapsulating data from December 3 to 4, 2020, shed light on key players and entities in the global response to COVID-19. Top individual contributors identified were Kwon Yung Yuen, Wei Wang, and Christian Drosten, all of whom are distinguished experts in the field of virology and infectious diseases. In terms of institutions, the Chinese Academy of Sciences, Huazhong University of Science and Technology, and the University of California were leading the research efforts. At a country level, China, the USA, and Italy emerged as the top contributors, underlining the widespread nature of the research endeavors.\n",
    "</p>\n",
    "\n",
    "<p style=\"text-align: justify\">\n",
    "&emsp; While our findings provide a snapshot of the research landscape during the COVID-19 pandemic, it's crucial to recognize that these insights represent a particular point in time, and the research scenario is continually evolving. As such, we recommend that future projects maintain a real-time or continual analysis pipeline to stay current with the latest research trends and changes.\n",
    "</p>\n",
    "\n",
    "<p style=\"text-align: justify\">\n",
    "&emsp; In conclusion, our project underscores the immense potential of big data analytics and cloud computing in extracting meaningful insights from large-scale scientific literature. These findings not only contribute to a better understanding of the research dynamics of the COVID-19 pandemic but also hint at a transformative approach to navigating large volumes of scientific data in the future.\n",
    "</p>"
   ]
  },
  {
   "cell_type": "markdown",
   "id": "e5886a51",
   "metadata": {},
   "source": [
    "<h1 style=\"color: #8936E0\"><b>Introduction</b></h1>\n",
    "\n",
    "<p style=\"text-align: justify\">\n",
    "    &emsp; Since its emergence in Wuhan, China, in late 2019, the novel coronavirus disease 2019 (COVID-19) has evolved from a local outbreak into a global pandemic, leaving no corner of the world untouched. Caused by the severe acute respiratory syndrome coronavirus 2 (SARS-CoV-2), COVID-19 has caused millions of deaths worldwide and has become a grave public health concern, demanding immediate attention and robust research efforts.\n",
    "</p>\n",
    "\n",
    "<p style=\"text-align: justify\">\n",
    "    &emsp; The speed and scale at which COVID-19 has spread necessitated a similarly swift and widespread response from the global scientific community. Researchers across diverse disciplines have come together to increase our understanding of the SARS-CoV-2 virus, its transmission mechanisms, the disease it causes, potential treatments, vaccines, and the societal impacts of the pandemic. As a result, an enormous body of scientific literature has been generated in an incredibly short span of time. This pool of research provides a vast trove of data, the analysis of which can yield critical insights into the collective global response to the pandemic.\n",
    "</p>"
   ]
  },
  {
   "cell_type": "markdown",
   "id": "ae702b46",
   "metadata": {},
   "source": [
    "<h1 style=\"color: #8936E0\"><b>Problem Statement</b></h1>\n",
    "\n",
    "<p style=\"text-align: justify\">\n",
    "    &emsp; As COVID-19 research proliferates at an astounding pace, it becomes increasingly difficult to stay abreast with the rapidly-evolving focus and dynamics within this research landscape. Moreover, traditional data analysis techniques struggle to handle the sheer volume, velocity, and variety of data, thereby limiting the scope and depth of insights.\n",
    "</p>\n",
    "\n",
    "<p style=\"text-align: justify\">\n",
    "    &emsp; This project proposes to leverage the power of big data analytics and cloud computing to tackle these challenges. By examining the COVID-19 Open Research Dataset (CORD-19), we aim to identify trends and shifts in research focus, thereby providing an overarching view of the global scientific community's response to the pandemic. Additionally, we aim to highlight the most influential contributors, institutions, and countries in this sphere.\n",
    "</p>"
   ]
  },
  {
   "cell_type": "markdown",
   "id": "dabe763e",
   "metadata": {},
   "source": [
    "<h1 style=\"color: #8936E0\"><b>Motivation</b></h1>\n",
    "\n",
    "<p style=\"text-align: justify\">\n",
    "    &emsp;The motivation behind this project is threefold. Primarily, with the vast amount of COVID-19 research available, employing big data techniques can provide profound insights into the trajectory of scientific efforts made worldwide. Understanding this trajectory can guide future research directions, offering a roadmap for researchers and policy-makers alike.\n",
    "</p>\n",
    "\n",
    "<p style=\"text-align: justify\">\n",
    "    &emsp;Secondly, identifying key contributors, institutions, and countries in COVID-19 research can help foster collaborative efforts, bridging gaps between different scientific communities. The goal is to highlight the pioneering work done by various researchers and institutions, thus recognizing their contributions, promoting the exchange of ideas, and inspiring future research collaborations. We believe that fostering such an environment can significantly expedite the progress in managing the current crisis and preparing for similar situations in the future.\n",
    "</p>\n",
    "\n",
    "<p style=\"text-align: justify\">\n",
    "    &emsp;Finally, our project provides a unique opportunity to showcase the efficiency and scalability of big data analytics and cloud computing in processing and analyzing extensive datasets. Demonstrating their efficacy could potentially encourage broader adoption of these techniques in scientific research, effectively transforming the way we handle and interpret large-scale data.\n",
    "</p>"
   ]
  },
  {
   "cell_type": "markdown",
   "id": "44eb4419",
   "metadata": {},
   "source": [
    "<h1 style=\"color: #8936E0\"><b>About the Data</b></h1>\n",
    "\n",
    "<h3>Data Source & Exploration</h3>\n",
    "\n",
    "<p style=\"text-align: justify\">\n",
    "    &emsp;The dataset used for this project is the COVID-19 Open Research Dataset (CORD-19). Released by the Allen Institute for AI, CORD-19 is an extensive dataset comprising scholarly articles about COVID-19 and the coronavirus group. Updated regularly, it has been instrumental in advancing scientific research around the pandemic.\n",
    "</p>\n",
    "    \n",
    "<p style=\"text-align: justify\">\n",
    "    &emsp;CORD-19 is a resource of over 400,000 scholarly articles, about COVID-19, SARS-CoV-2, and related coronaviruses. The dataset includes articles from sources like PubMed, a repository of biomedical and life science literature, and preprint servers like bioRxiv and medRxiv. It is a rich collection that incorporates research spanning various aspects of COVID-19, from its virology to its broader socio-economic impacts.\n",
    "</p>\n",
    " \n",
    "<p style=\"text-align: justify\">\n",
    "    &emsp;The dataset is structured into several files and comes in a machine-readable JSON format, which is ideal for our big data analysis purposes. The data fields included in the dataset allow for a broad range of analysis to be carried out. The core fields included in the dataset are:\n",
    "</p>\n",
    "\n",
    "| Field Name    | Description                                                                                              |\n",
    "|---------------|----------------------------------------------------------------------------------------------------------|\n",
    "| paper_id      | A unique identifier for each paper                                                                        |\n",
    "| title         | The title of the paper                                                                                   |\n",
    "| authors       | List of authors who have contributed to the paper                                                         |\n",
    "| institutions  | Institutions associated with the authors                                                                  |\n",
    "| abstract      | An abstract of the paper                                                                                 |\n",
    "| body_text     | Full text of the paper                                                                                   |\n",
    "| bib_entries   | Bibliographic data for the paper                                                                          |\n",
    "| meta_data     | Various metadata associated with the paper (including publishing time, journal information, etc.)          |\n",
    "| country       | Country of the first author                                                                               |\n",
    "<p style=\"text-align: center;\"><b>Table 1.</b> Data Dictionary of CORD-19 Dataset</p>\n",
    "\n",
    "<p style=\"text-align: justify\">\n",
    "    &emsp;Our data analysis process will primarily focus on these fields to derive the desired insights, such as identifying the top contributors, institutions, and countries, and highlighting the trends and shifts in research focus in the COVID-19 literature.\n",
    "</p>\n",
    "\n",
    "<h3>Data Scope & Limitations</h3>\n",
    "\n",
    "<p style=\"text-align: justify\">\n",
    "    &emsp;Given the size and complexity of the CORD-19 dataset, which consists of over 400,000 scholarly articles, it was necessary to set certain boundaries for our analysis to make the project manageable within our resources and timeline. Consequently, the scope of our study was narrowed down to a subset of the dataset.\n",
    "</p>\n",
    "\n",
    "<p style=\"text-align: justify\">\n",
    "    &emsp;The scope of our analysis was confined to a 22GB subset of the CORD-19 dataset, representing research articles published on December 3 and 4, 2020. This selection was driven by the necessity to manage resources and time effectively, while focusing on a period with high research output.\n",
    "</p>\n",
    "\n",
    "<p style=\"text-align: justify\">\n",
    "    &emsp;This approach, however, introduces certain limitations. Our analysis does not encompass the full breadth of research conducted over the entire course of the pandemic, and thus may not reflect evolving global research contributions or trends. Top contributors, institutions, and countries that made significant inputs outside of these dates might not be represented. Also, our focus is limited to research publications and does not account for other forms of scientific output such as datasets, software, or patents.\n",
    "</p>\n",
    "\n",
    "<p style=\"text-align: justify\">\n",
    "    &emsp;These limitations notwithstanding, our study provides a valuable snapshot of the COVID-19 research landscape during the considered timeframe and offers insights that can inform subsequent, more extensive analyses. It also serves as a case study demonstrating the utility of big data analytics and cloud computing in the processing and analysis of large scientific datasets.\n",
    "</p>"
   ]
  },
  {
   "cell_type": "markdown",
   "id": "3c3f4579",
   "metadata": {},
   "source": [
    "<h1 style=\"color: #8936E0\"><b>Methodology</b></h1>\n",
    "\n",
    "<p style=\"text-align: justify\">\n",
    "    &emsp;The methodology adopted for this project entailed the application of big data techniques, particularly Apache Spark, within a cloud computing environment. Python was the primary programming language used, given its versatility and the availability of numerous libraries that support data processing, analysis, and visualization. The procedure encompassed the following steps:\n",
    "</p>\n",
    "\n",
    "- <b>Data Preparation.</b> Given that our dataset, CORD-19, is substantial and in the machine-readable JSON format, the first step was to extract and prepare this data for processing in a distributed system like Spark. This involved converting the dataset into a format that can be distributed across multiple nodes. We used PySpark, the Python library for Spark, to read the JSON files, and then transformed the data into a distributed data structure called Resilient Distributed Dataset (RDD). RDD is a fundamental data structure of Spark that allows data to be distributed across multiple nodes in a cluster, thereby facilitating parallel processing.\n",
    "\n",
    "- <b>Setting Up Amazon EMR and Loading Data onto Spark.</b> The second step was to set up an Amazon Elastic MapReduce (EMR) cluster. Amazon EMR is a cloud-based big data platform that allows the processing of large datasets using popular distributed computing frameworks such as Spark.Once the EMR cluster was set up, we used the Hadoop Distributed File System (HDFS) to distribute the dataset across the nodes in the cluster. This step ensured that the data was ready to be processed by Spark in a distributed and parallelized manner.\n",
    "\n",
    "- <b>Data Processing and Exploratory Data Analysis.</b> With the data distributed across the EMR cluster and loaded onto Spark, we proceeded to the data processing and exploratory data analysis (EDA) phase.We employed various Spark transformations and actions on the RDDs to clean and preprocess the data, such as removing duplicates, handling missing values, and filtering irrelevant information. For the EDA, we formulated and executed Spark DataFrame queries to answer our research questions. We investigated the top contributors, institutions, and countries and examined trends and shifts in research focus in the COVID-19 literature.\n",
    "\n",
    "- <b>Summarization and Visualization.</b> The final step was to summarize the insights obtained from the EDA and create visualizations for better understanding and interpretation of the data. We utilized Python's data visualization libraries, such as Plotly, to generate plots and charts that represented our findings. These visualizations provided an intuitive and accessible way to understand the trends and patterns unearthed from our analysis.\n",
    "\n",
    "<p style=\"text-align: justify\">\n",
    "    &emsp;In summary, our methodology employed big data techniques, especially Spark, to handle, process, and analyze the large CORD-19 dataset. The cloud-based nature of Amazon EMR allowed us to leverage distributed computing for efficient data processing and analysis. The insights derived from our project highlight the potential of such techniques in making sense of large and complex scientific datasets.\n",
    "</p>\n",
    "\n",
    "<br>\n",
    "<center><img src=\"figures/methodology.png\" height=\"1198\" width=\"998\"/></center>\n",
    "<br>\n",
    "\n",
    "<p style=\"text-align: center\">\n",
    "    <b>Figure 2.</b> Methodology of the Project\n",
    "</p>"
   ]
  },
  {
   "cell_type": "markdown",
   "id": "adbe030c",
   "metadata": {},
   "source": [
    "<h1 style=\"color: #8936E0\"><b>Results & Discussion</b></h1>\n",
    "\n",
    "<p style=\"text-align: justify\">\n",
    "    &emsp;Having employed the big data techniques detailed in our methodology, we can now delve into the results obtained from the exploratory data analysis of the CORD-19 dataset. Please note that the analysis and results pertain to the <b>data available up until the period ending on December 4th, 2020</b>. As the dataset is continually updated, the numbers and trends may evolve beyond this period.\n",
    "</p>\n",
    "\n",
    "<h3>Top Contributors</h3>\n",
    "\n",
    "<p style=\"text-align: justify\">\n",
    "    &emsp;Identifying the top contributors provides insight into who the primary researchers are in the field of COVID-19. These individuals are key opinion leaders who often pioneer new research directions and contribute significantly to the body of knowledge on the topic. By identifying these individuals, we can recognize their work, facilitate collaborations, and encourage the academic community to explore their research, thereby accelerating our understanding of the pandemic.\n",
    "</p>"
   ]
  },
  {
   "cell_type": "code",
   "execution_count": null,
   "id": "96beb878",
   "metadata": {},
   "outputs": [],
   "source": [
    "fig_auth = (df_authors.iloc[:10]\n",
    "            .sort_values('count')\n",
    "            .plot.bar(x='count', y='fullname')\n",
    "           )\n",
    "\n",
    "(fig_auth.update_layout(template=\"plotly_white\",\n",
    "                        xaxis_title=\"Count of Publications\",\n",
    "                        yaxis_title=\"Authors\",\n",
    "                        title=\"Top Contributing Authors\"\n",
    "                        )\n",
    " .update_traces(marker_color='#BE75E1'))\n",
    "\n",
    "fig_auth.show(config={\n",
    "    \"editable\": True,\n",
    "    'toImageButtonOptions': {\n",
    "        'format': 'png',  # one of png, svg, jpeg, webp\n",
    "        'filename': 'fig_auth',\n",
    "        'scale': 5  # Multiply title/legend/axis/canvas sizes by this factor\n",
    "    }\n",
    "})"
   ]
  },
  {
   "cell_type": "markdown",
   "id": "680611dd",
   "metadata": {},
   "source": [
    "<center><img src=\"figures/fig_auth.png\" height=\"1198\" width=\"998\"/></center>\n",
    "<p style=\"text-align: center\">\n",
    "    <b>Figure 2.</b> Top Contributors\n",
    "</p>"
   ]
  },
  {
   "cell_type": "markdown",
   "id": "c1a79ce1",
   "metadata": {},
   "source": [
    "<p style=\"text-align: justify\">\n",
    "    &emsp;Figure 2 identified Kwon Yung Yuen, Wei Wang, and Christian Drosten as the top contributors to COVID-19 scientific literature. These individuals have made substantial contributions to the global understanding of the virus, with a significant number of publications to their names.\n",
    "</p>\n",
    "\n",
    "- <b>Kwon Yung Yuen.</b> An infectious disease expert hailing from the University of Hong Kong, Kwon Yung Yuen has a history of research on coronaviruses, particularly SARS and MERS. His extensive knowledge and experience in this field have likely driven his prolific output in COVID-19 research.\n",
    "\n",
    "- <b>Wei Wang.</b> Based at the Edith Cowan University in Australia, Wei Wang has made significant contributions to biomedical science and clinical medicine, with a focus on genomic and personalized medicine. His interdisciplinary background may have empowered him to contribute significantly to the understanding of COVID-19.\n",
    "\n",
    "- <b>Christian Drosten.</b> Christian Drosten is a renowned virologist from the Charité University Hospital in Berlin. He is known for his work on coronaviruses and was part of the team that first identified the SARS virus in 2003. This wealth of experience in coronaviruses makes his significant contribution to COVID-19 research quite expected."
   ]
  },
  {
   "cell_type": "markdown",
   "id": "eab4f168",
   "metadata": {},
   "source": [
    "<h3>Top Contributing Institutions</h3>\n",
    "\n",
    "<p style=\"text-align: justify\">\n",
    "    &emsp;Understanding the top contributing institutions provides a perspective on which organizations are at the forefront of COVID-19 research. Institutions often have unique resources, such as specialized research equipment or expertise, which makes them particularly well-suited to conduct certain types of research. By highlighting these institutions, we can encourage partnerships, resource sharing, and collaborative efforts that can advance research more efficiently and effectively.\n",
    "</p>"
   ]
  },
  {
   "cell_type": "code",
   "execution_count": null,
   "id": "38eb2000",
   "metadata": {},
   "outputs": [],
   "source": [
    "fig_inst = (df_institutions.iloc[:10]\n",
    "            .sort_values('count')\n",
    "            .plot.bar(x='count', y='institution')\n",
    "           )\n",
    "\n",
    "(fig_inst.update_layout(template=\"plotly_white\",\n",
    "                        xaxis_title=\"Count of Publications\",\n",
    "                        yaxis_title=\"Institutions\",\n",
    "                        title=\"Top Contributing Institutions\"\n",
    "                        )\n",
    " .update_traces(marker_color='#8936E0'))\n",
    "\n",
    "fig_inst.show(config={\n",
    "    \"editable\": True,\n",
    "    'toImageButtonOptions': {\n",
    "        'format': 'png',  # one of png, svg, jpeg, webp\n",
    "        'filename': 'fig_inst',\n",
    "        'scale': 5  # Multiply title/legend/axis/canvas sizes by this factor\n",
    "    }\n",
    "})"
   ]
  },
  {
   "cell_type": "markdown",
   "id": "3c1ea1f7",
   "metadata": {},
   "source": [
    "<center><img src=\"figures/fig_inst.png\" height=\"1198\" width=\"998\"/></center>\n",
    "<p style=\"text-align: center\">\n",
    "    <b>Figure 3.</b> Top Contributing Institutions\n",
    "</p>"
   ]
  },
  {
   "cell_type": "markdown",
   "id": "c9e337f9",
   "metadata": {},
   "source": [
    "<p style=\"text-align: justify\">\n",
    "    &emsp;The top contributing institutions are the Chinese Academy of Sciences, Huazhong University of Science and Technology, and the University of California.\n",
    "</p>\n",
    "\n",
    "- <b>Chinese Academy of Sciences.</b> Given that COVID-19 was first identified in China, it is unsurprising that a Chinese institution leads the charge in COVID-19 research. The Chinese Academy of Sciences is the national research hub of China, and its contributions reflect the concerted effort by China to understand and combat the virus.\n",
    "\n",
    "- <b>Huazhong University of Science and Technology.</b> This institution is located in Wuhan, the city where the COVID-19 outbreak first emerged. Its proximity to the epicenter of the outbreak might explain its significant contribution to the global research effort.\n",
    "\n",
    "- <b>University of California.</b> The University of California is known for its strong medical and biological sciences programs. Its network of universities across the state provides a robust research infrastructure that has likely facilitated its substantial contribution to COVID-19 research."
   ]
  },
  {
   "cell_type": "markdown",
   "id": "96e9aba3",
   "metadata": {},
   "source": [
    "<h3>Top Contributing Countries</h3>\n",
    "\n",
    "<p style=\"text-align: justify\">\n",
    "    &emsp;Finally, understanding the top contributing countries provides a geographical perspective on the global research effort against COVID-19. It offers insights into how different nations are contributing to the scientific community's understanding of the virus, its spread, and its impacts. This analysis can be instrumental for policymakers to guide resource allocation, international collaboration, and policy formulation in the ongoing fight against the pandemic.\n",
    "</p>\n"
   ]
  },
  {
   "cell_type": "code",
   "execution_count": null,
   "id": "4c199fce",
   "metadata": {},
   "outputs": [],
   "source": [
    "fig_cntry = (df_countries.iloc[:10]\n",
    "            .sort_values('count')\n",
    "            .plot.bar(x='count', y='country')\n",
    "           )\n",
    "\n",
    "(fig_inst.update_layout(template=\"plotly_white\",\n",
    "                        xaxis_title=\"Count of Publications\",\n",
    "                        yaxis_title=\"Countries\",\n",
    "                        title=\"Top Contributing Countries\"\n",
    "                        )\n",
    " .update_traces(marker_color='#441E82'))\n",
    "\n",
    "fig_inst.show(config={\n",
    "    \"editable\": True,\n",
    "    'toImageButtonOptions': {\n",
    "        'format': 'png',  # one of png, svg, jpeg, webp\n",
    "        'filename': 'fig_cntry',\n",
    "        'scale': 5  # Multiply title/legend/axis/canvas sizes by this factor\n",
    "    }\n",
    "})"
   ]
  },
  {
   "cell_type": "markdown",
   "id": "23bf2d44",
   "metadata": {},
   "source": [
    "<center><img src=\"figures/fig_country.png\" height=\"1198\" width=\"998\"/></center>\n",
    "<p style=\"text-align: center\">\n",
    "    <b>Figure 4.</b> Top Contributing Countries\n",
    "</p>"
   ]
  },
  {
   "cell_type": "markdown",
   "id": "c59f86e2",
   "metadata": {},
   "source": [
    "<p style=\"text-align: justify\">\n",
    "    &emsp;Finally, the analysis also highlighted China, USA, and Italy as the top contributing countries to COVID-19 scientific literature.\n",
    "</p>\n",
    "\n",
    "- <b>China.</b> As the first country to face the COVID-19 outbreak, China quickly mobilized its scientific community to study the virus. This early and intense focus on the virus likely resulted in China becoming the top contributor to the global body of COVID-19 research.\n",
    "\n",
    "- <b>USA.</b> The USA has a long history of significant contributions to medical and scientific research, backed by a robust academic and industrial research infrastructure. Despite not being the initial epicenter of the pandemic, the extensive impact of COVID-19 on the country likely spurred substantial research efforts.\n",
    "\n",
    "- <b>Italy.</b> Italy was the first country in Europe to face a major COVID-19 outbreak. The rapid and intense impact of the virus likely catalyzed a strong research response, leading to its place as one of the top contributing countries.\n",
    "\n",
    "<p style=\"text-align: justify\">\n",
    "    &emsp;In conclusion, these findings offer a compelling glimpse into the global effort to understand and combat COVID-19. These top contributors, institutions, and countries have played a pivotal role in the generation of knowledge about the virus, shaping the world's response to the pandemic.\n",
    "</p>"
   ]
  },
  {
   "cell_type": "markdown",
   "id": "1fd4f296",
   "metadata": {},
   "source": [
    "<h1 style=\"color: #8936E0\"><b>Conclusion & Recommendations</b></h1>\n",
    "\n",
    "<p style=\"text-align: justify\">\n",
    "    &emsp;This project has served to demonstrate the power and potential of harnessing big data techniques in understanding the vast landscape of research surrounding a global health crisis. Using the CORD-19 dataset, we analyzed a snapshot of the data from December 3-4, 2020, to glean a picture of the global research landscape during the pandemic.\n",
    "</p>\n",
    "\n",
    "<p style=\"text-align: justify\">\n",
    "    &emsp;Our analysis spotlighted the efforts of key contributors such as Kwon Yung Yuen, Wei Wang, and Christian Drosten, who were instrumental in driving impactful research into COVID-19. Equally notable were the contributions from the Chinese Academy of Sciences, Huazhong University of Science and Technology, and the University of California, institutions that represented knowledge hubs where significant advancements were being made. At the country level, China, USA, and Italy emerged as the top contributors, illuminating the geographical spread of the global research effort.\n",
    "</p>\n",
    "\n",
    "<p style=\"text-align: justify\">\n",
    "    &emsp;It's important to acknowledge that these findings represent a moment in time, specifically up until December 4, 2020. The research landscape continues to evolve, and the trends and insights we've gleaned may have shifted since then. Therefore, while these results provide an interesting snapshot, they underscore the need for continual analysis of the dataset to keep abreast of the most current research trends and shifts.\n",
    "</p>\n",
    "\n",
    "<p style=\"text-align: justify\">\n",
    "    &emsp;Our findings and the project as a whole highlight the potential of big data and cloud computing in managing, processing, and extracting insights from large-scale scientific literature. The adoption of these techniques can be transformative for future scientific research and holds the promise of fundamentally altering our understanding and interpretation of large-scale scientific data.\n",
    "</p>\n",
    "\n",
    "<p style=\"text-align: justify\">\n",
    "    &emsp;In conclusion, our work provides a critical understanding of the global research landscape during the COVID-19 pandemic, highlighting the power of big data analytics in deriving these insights. However, we also look forward to future explorations that leverage the continuously updating nature of the dataset and offer an even more timely and nuanced understanding of the ongoing scientific discourse.\n",
    "</p>\n",
    "\n",
    "<h3>Recommendations</h3>\n",
    "\n",
    "- <b>Continual Analysis.</b> The CORD-19 dataset is regularly updated with new research papers, and as such, the data analyzed in this project represents a snapshot in time. Future efforts should aim to set up a continual or real-time analysis pipeline to stay up-to-date with the latest research trends and shifts.\n",
    "\n",
    "- <b>Expanding the Scope of Analysis.</b> Our analysis primarily focused on identifying top contributors, institutions, and countries. While these aspects are important, future projects could expand the scope to include more detailed analyses, such as thematic trends in research, co-authorship networks, citation analysis, and more.\n",
    "\n",
    "- <b>Integrating Additional Datasets.</b> While the CORD-19 dataset is comprehensive, integrating additional datasets could enhance the analysis. For example, incorporating citation databases could provide insights into the influence of specific papers or authors. Including non-English research papers could broaden the scope and inclusivity of the analysis.\n",
    "\n",
    "- <b>Leveraging Natural Language Processing (NLP).</b> The CORD-19 dataset contains a wealth of textual data, ripe for analysis via Natural Language Processing techniques. Using NLP, future work could perform more nuanced analyses, such as sentiment analysis, topic modeling, or text classification to further understand the content and trends within the research papers."
   ]
  },
  {
   "cell_type": "markdown",
   "id": "142b0934",
   "metadata": {},
   "source": [
    "<h1 style=\"color: #8936E0\"><b>References</b></h1>\n",
    "\n",
    "<p style=\"text-align: justify\">\n",
    "</p>"
   ]
  },
  {
   "cell_type": "code",
   "execution_count": null,
   "id": "30409ca3",
   "metadata": {},
   "outputs": [],
   "source": []
  }
 ],
 "metadata": {
  "kernelspec": {
   "display_name": "Python 3 (ipykernel)",
   "language": "python",
   "name": "python3"
  },
  "language_info": {
   "codemirror_mode": {
    "name": "ipython",
    "version": 3
   },
   "file_extension": ".py",
   "mimetype": "text/x-python",
   "name": "python",
   "nbconvert_exporter": "python",
   "pygments_lexer": "ipython3",
   "version": "3.9.12"
  },
  "latex_envs": {
   "LaTeX_envs_menu_present": true,
   "autoclose": false,
   "autocomplete": true,
   "bibliofile": "biblio.bib",
   "cite_by": "apalike",
   "current_citInitial": 1,
   "eqLabelWithNumbers": true,
   "eqNumInitial": 1,
   "hotkeys": {
    "equation": "Ctrl-E",
    "itemize": "Ctrl-I"
   },
   "labels_anchors": false,
   "latex_user_defs": false,
   "report_style_numbering": false,
   "user_envs_cfg": false
  },
  "toc": {
   "base_numbering": 1,
   "nav_menu": {},
   "number_sections": true,
   "sideBar": true,
   "skip_h1_title": false,
   "title_cell": "Table of Contents",
   "title_sidebar": "Contents",
   "toc_cell": false,
   "toc_position": {},
   "toc_section_display": true,
   "toc_window_display": false
  },
  "varInspector": {
   "cols": {
    "lenName": 16,
    "lenType": 16,
    "lenVar": 40
   },
   "kernels_config": {
    "python": {
     "delete_cmd_postfix": "",
     "delete_cmd_prefix": "del ",
     "library": "var_list.py",
     "varRefreshCmd": "print(var_dic_list())"
    },
    "r": {
     "delete_cmd_postfix": ") ",
     "delete_cmd_prefix": "rm(",
     "library": "var_list.r",
     "varRefreshCmd": "cat(var_dic_list()) "
    }
   },
   "types_to_exclude": [
    "module",
    "function",
    "builtin_function_or_method",
    "instance",
    "_Feature"
   ],
   "window_display": false
  }
 },
 "nbformat": 4,
 "nbformat_minor": 5
}
