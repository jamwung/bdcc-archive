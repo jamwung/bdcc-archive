{
 "cells": [
  {
   "cell_type": "code",
   "execution_count": 1,
   "id": "331629e1",
   "metadata": {
    "ExecuteTime": {
     "end_time": "2023-06-12T10:25:19.854952Z",
     "start_time": "2023-06-12T10:25:19.837401Z"
    }
   },
   "outputs": [
    {
     "data": {
      "text/html": [
       "<script src = \"require.js\" > </script >\n"
      ],
      "text/plain": [
       "<IPython.core.display.HTML object>"
      ]
     },
     "metadata": {},
     "output_type": "display_data"
    }
   ],
   "source": [
    "%%HTML\n",
    "<script src = \"require.js\" > </script >"
   ]
  },
  {
   "cell_type": "code",
   "execution_count": 2,
   "id": "1525ded2",
   "metadata": {
    "ExecuteTime": {
     "end_time": "2023-06-12T10:25:20.196564Z",
     "start_time": "2023-06-12T10:25:20.175540Z"
    }
   },
   "outputs": [
    {
     "data": {
      "text/html": [
       "<script src=\"https://cdnjs.cloudflare.com/ajax/libs/jquery/2.0.3/jquery.min.js \"></script><script>\n",
       "code_show=true; \n",
       "function code_toggle() {\n",
       "if (code_show){\n",
       "$('div.jp-CodeCell > div.jp-Cell-inputWrapper').hide();\n",
       "} else {\n",
       "$('div.jp-CodeCell > div.jp-Cell-inputWrapper').show();\n",
       "}\n",
       "code_show = !code_show\n",
       "} \n",
       "$( document ).ready(code_toggle);</script><form action=\"javascript:code_toggle()\"><input type=\"submit\" value=\"Click here to toggle on/off the raw code.\"></form>\n"
      ],
      "text/plain": [
       "<IPython.core.display.HTML object>"
      ]
     },
     "execution_count": 2,
     "metadata": {},
     "output_type": "execute_result"
    }
   ],
   "source": [
    "from IPython.display import HTML, display, display_html\n",
    "\n",
    "HTML(\"\"\"<style>\n",
    ".output_png {\n",
    "    display: table-cell;\n",
    "    text-align: center;\n",
    "    vertical-align: middle;\n",
    "}\n",
    "</style>\n",
    "\"\"\")\n",
    "\n",
    "HTML('''<script src=\"https://cdnjs.cloudflare.com/ajax/libs/jquery/2.0.3/jquery.min.js \"></script><script>\n",
    "code_show=true; \n",
    "function code_toggle() {\n",
    "if (code_show){\n",
    "$('div.jp-CodeCell > div.jp-Cell-inputWrapper').hide();\n",
    "} else {\n",
    "$('div.jp-CodeCell > div.jp-Cell-inputWrapper').show();\n",
    "}\n",
    "code_show = !code_show\n",
    "} \n",
    "$( document ).ready(code_toggle);</script><form action=\"javascript:code_toggle()\"><input type=\"submit\" value=\"Click here to toggle on/off the raw code.\"></form>\n",
    "''')"
   ]
  },
  {
   "cell_type": "code",
   "execution_count": 1,
   "id": "bc337665-e1da-4151-98b4-64fec910956a",
   "metadata": {
    "execution": {
     "iopub.execute_input": "2023-06-11T11:40:50.673393Z",
     "iopub.status.busy": "2023-06-11T11:40:50.673044Z",
     "iopub.status.idle": "2023-06-11T11:41:41.217408Z",
     "shell.execute_reply": "2023-06-11T11:41:41.216234Z",
     "shell.execute_reply.started": "2023-06-11T11:40:50.673363Z"
    },
    "tags": []
   },
   "outputs": [
    {
     "data": {
      "application/vnd.jupyter.widget-view+json": {
       "model_id": "a96062dec855438a806fd268b7c485f1",
       "version_major": 2,
       "version_minor": 0
      },
      "text/plain": [
       "VBox()"
      ]
     },
     "metadata": {},
     "output_type": "display_data"
    },
    {
     "name": "stdout",
     "output_type": "stream",
     "text": [
      "Starting Spark application\n"
     ]
    },
    {
     "data": {
      "text/html": [
       "<table>\n",
       "<tbody><tr><th>ID</th><th>YARN Application ID</th><th>Kind</th><th>State</th><th>Spark UI</th><th>Driver log</th><th>User</th><th>Current session?</th></tr><tr><td>0</td><td>application_1686481539987_0001</td><td>pyspark</td><td>idle</td><td><a target=\"_blank\" href=\"http://ip-172-31-42-117.ec2.internal:20888/proxy/application_1686481539987_0001/\" class=\"emr-proxy-link j-19YSSV2I5V00Q application_1686481539987_0001\" emr-resource=\"j-19YSSV2I5V00Q\n",
       "\" application-id=\"application_1686481539987_0001\">Link</a></td><td><a target=\"_blank\" href=\"http://ip-172-31-33-7.ec2.internal:8042/node/containerlogs/container_1686481539987_0001_01_000001/livy\">Link</a></td><td>None</td><td>✔</td></tr></tbody></table>"
      ],
      "text/plain": [
       "<IPython.core.display.HTML object>"
      ]
     },
     "metadata": {},
     "output_type": "display_data"
    },
    {
     "data": {
      "application/vnd.jupyter.widget-view+json": {
       "model_id": "",
       "version_major": 2,
       "version_minor": 0
      },
      "text/plain": [
       "FloatProgress(value=0.0, bar_style='info', description='Progress:', layout=Layout(height='25px', width='50%'),…"
      ]
     },
     "metadata": {},
     "output_type": "display_data"
    },
    {
     "name": "stdout",
     "output_type": "stream",
     "text": [
      "SparkSession available as 'spark'.\n"
     ]
    },
    {
     "data": {
      "application/vnd.jupyter.widget-view+json": {
       "model_id": "",
       "version_major": 2,
       "version_minor": 0
      },
      "text/plain": [
       "FloatProgress(value=0.0, bar_style='info', description='Progress:', layout=Layout(height='25px', width='50%'),…"
      ]
     },
     "metadata": {},
     "output_type": "display_data"
    }
   ],
   "source": [
    "#"
   ]
  },
  {
   "cell_type": "code",
   "execution_count": 160,
   "id": "92cc5528-18e0-446d-9106-4917fc635825",
   "metadata": {
    "execution": {
     "iopub.execute_input": "2023-06-11T18:57:03.418895Z",
     "iopub.status.busy": "2023-06-11T18:57:03.418563Z",
     "iopub.status.idle": "2023-06-11T18:57:24.760272Z",
     "shell.execute_reply": "2023-06-11T18:57:24.759553Z",
     "shell.execute_reply.started": "2023-06-11T18:57:03.418866Z"
    },
    "tags": []
   },
   "outputs": [
    {
     "data": {
      "application/vnd.jupyter.widget-view+json": {
       "model_id": "f1d90b3d71f94162badb88b8c464cb5b",
       "version_major": 2,
       "version_minor": 0
      },
      "text/plain": [
       "VBox()"
      ]
     },
     "metadata": {},
     "output_type": "display_data"
    },
    {
     "data": {
      "application/vnd.jupyter.widget-view+json": {
       "model_id": "",
       "version_major": 2,
       "version_minor": 0
      },
      "text/plain": [
       "FloatProgress(value=0.0, bar_style='info', description='Progress:', layout=Layout(height='25px', width='50%'),…"
      ]
     },
     "metadata": {},
     "output_type": "display_data"
    },
    {
     "name": "stdout",
     "output_type": "stream",
     "text": [
      "Collecting plotly\n",
      "  Downloading plotly-5.15.0-py2.py3-none-any.whl (15.5 MB)\n",
      "Collecting tenacity>=6.2.0\n",
      "  Downloading tenacity-8.2.2-py3-none-any.whl (24 kB)\n",
      "Requirement already satisfied: packaging in ./tmp/1686483695803-0/lib/python3.7/site-packages (from plotly) (23.1)\n",
      "Installing collected packages: tenacity, plotly\n",
      "Successfully installed plotly-5.15.0 tenacity-8.2.2\n",
      "\n",
      "WARNING: The directory '/home/.cache/pip' or its parent directory is not owned or is not writable by the current user. The cache has been disabled. Check the permissions and owner of that directory. If executing pip with sudo, you may want sudo's -H flag."
     ]
    }
   ],
   "source": [
    "sc.install_pypi_package('numpy')\n",
    "sc.install_pypi_package('pandas')\n",
    "sc.install_pypi_package('fsspec')\n",
    "sc.install_pypi_package('s3fs')\n",
    "sc.install_pypi_package('matplotlib')\n",
    "sc.install_pypi_package('seaborn')\n",
    "sc.install_pypi_package('PyArrow')\n",
    "sc.install_pypi_package('plotly')"
   ]
  },
  {
   "cell_type": "code",
   "execution_count": 4,
   "id": "eb187ea8",
   "metadata": {
    "ExecuteTime": {
     "end_time": "2023-06-12T10:26:37.050404Z",
     "start_time": "2023-06-12T10:26:37.046369Z"
    }
   },
   "outputs": [],
   "source": [
    "import pandas as pd\n",
    "import matplotlib.pyplot as plt\n",
    "import seaborn as sns\n",
    "import plotly\n",
    "\n",
    "import pyspark.pandas as ps\n",
    "import pyspark.sql.functions as F\n",
    "from pyspark.sql import SparkSession\n",
    "\n",
    "import plotly.graph_objects as go\n",
    "import plotly\n",
    "import json"
   ]
  },
  {
   "cell_type": "markdown",
   "id": "cf10d7ce",
   "metadata": {},
   "source": [
    "<center><img src=\"figures/header.png\" height=\"2098\" width=\"1098\"/></center>"
   ]
  },
  {
   "cell_type": "markdown",
   "id": "13dba6a1",
   "metadata": {},
   "source": [
    "<h1 style=\"color: #8936E0\"><b>Executive Summary</b></h1>\n",
    "\n",
    "<p style=\"text-align: justify\">\n",
    "&emsp; Our project aims at leveraging big data analytics and cloud computing to make sense of the burgeoning body of COVID-19 related scientific literature. The objective was to use this wealth of data to identify key trends and shifts in research focus in the context of the ongoing pandemic.\n",
    "</p>\n",
    "\n",
    "<p style=\"text-align: justify\">\n",
    "&emsp; Our methodology involved utilizing the COVID-19 Open Research Dataset (CORD-19), a rich repository of scientific articles pertaining to COVID-19. The raw data was first transformed into a format suitable for distributed systems and subsequently loaded onto Amazon EMR clusters via Apache Spark. We then proceeded to carry out exploratory data analysis to answer three main questions – Who were the top contributors, which were the top contributing institutions, and which were the top contributing countries in the arena of COVID-19 research.\n",
    "</p>\n",
    "\n",
    "<p style=\"text-align: justify\">\n",
    "&emsp; The results, encapsulating data from December 3 to 4, 2020, shed light on key players and entities in the global response to COVID-19. Top individual contributors identified were Kwon Yung Yuen, Wei Wang, and Christian Drosten, all of whom are distinguished experts in the field of virology and infectious diseases. In terms of institutions, the Chinese Academy of Sciences, Huazhong University of Science and Technology, and the University of California were leading the research efforts. At a country level, China, the USA, and Italy emerged as the top contributors, underlining the widespread nature of the research endeavors.\n",
    "</p>\n",
    "\n",
    "<p style=\"text-align: justify\">\n",
    "&emsp; While our findings provide a snapshot of the research landscape during the COVID-19 pandemic, it's crucial to recognize that these insights represent a particular point in time, and the research scenario is continually evolving. As such, we recommend that future projects maintain a real-time or continual analysis pipeline to stay current with the latest research trends and changes.\n",
    "</p>\n",
    "\n",
    "<p style=\"text-align: justify\">\n",
    "&emsp; In conclusion, our project underscores the immense potential of big data analytics and cloud computing in extracting meaningful insights from large-scale scientific literature. These findings not only contribute to a better understanding of the research dynamics of the COVID-19 pandemic but also hint at a transformative approach to navigating large volumes of scientific data in the future.\n",
    "</p>\n",
    "\n",
    "<h1 style=\"color: #8936E0\"><b>Introduction</b></h1>\n",
    "\n",
    "<p style=\"text-align: justify\">\n",
    "    &emsp; Since its emergence in Wuhan, China, in late 2019, the novel coronavirus disease 2019 (COVID-19) has evolved from a local outbreak into a global pandemic, leaving no corner of the world untouched. Caused by the severe acute respiratory syndrome coronavirus 2 (SARS-CoV-2), COVID-19 has caused millions of deaths worldwide and has become a grave public health concern, demanding immediate attention and robust research efforts.\n",
    "</p>\n",
    "\n",
    "<p style=\"text-align: justify\">\n",
    "    &emsp; The speed and scale at which COVID-19 has spread necessitated a similarly swift and widespread response from the global scientific community. Researchers across diverse disciplines have come together to increase our understanding of the SARS-CoV-2 virus, its transmission mechanisms, the disease it causes, potential treatments, vaccines, and the societal impacts of the pandemic. As a result, an enormous body of scientific literature has been generated in an incredibly short span of time. This pool of research provides a vast trove of data, the analysis of which can yield critical insights into the collective global response to the pandemic.\n",
    "</p>\n",
    "\n",
    "<h1 style=\"color: #8936E0\"><b>Problem Statement</b></h1>\n",
    "\n",
    "<p style=\"text-align: justify\">\n",
    "    &emsp; As COVID-19 research proliferates at an astounding pace, it becomes increasingly difficult to stay abreast with the rapidly-evolving focus and dynamics within this research landscape. Moreover, traditional data analysis techniques struggle to handle the sheer volume, velocity, and variety of data, thereby limiting the scope and depth of insights.\n",
    "</p>\n",
    "\n",
    "<p style=\"text-align: justify\">\n",
    "    &emsp; This project proposes to leverage the power of big data analytics and cloud computing to tackle these challenges. By examining the COVID-19 Open Research Dataset (CORD-19), we aim to identify trends and shifts in research focus, thereby providing an overarching view of the global scientific community's response to the pandemic. Additionally, we aim to highlight the most influential contributors, institutions, and countries in this sphere.\n",
    "</p>\n",
    "\n",
    "<h1 style=\"color: #8936E0\"><b>Motivation</b></h1>\n",
    "\n",
    "<p style=\"text-align: justify\">\n",
    "    &emsp;The motivation behind this project is threefold. Primarily, with the vast amount of COVID-19 research available, employing big data techniques can provide profound insights into the trajectory of scientific efforts made worldwide. Understanding this trajectory can guide future research directions, offering a roadmap for researchers and policy-makers alike.\n",
    "</p>\n",
    "\n",
    "<p style=\"text-align: justify\">\n",
    "    &emsp;Secondly, identifying key contributors, institutions, and countries in COVID-19 research can help foster collaborative efforts, bridging gaps between different scientific communities. The goal is to highlight the pioneering work done by various researchers and institutions, thus recognizing their contributions, promoting the exchange of ideas, and inspiring future research collaborations. We believe that fostering such an environment can significantly expedite the progress in managing the current crisis and preparing for similar situations in the future.\n",
    "</p>\n",
    "\n",
    "<p style=\"text-align: justify\">\n",
    "    &emsp;Finally, our project provides a unique opportunity to showcase the efficiency and scalability of big data analytics and cloud computing in processing and analyzing extensive datasets. Demonstrating their efficacy could potentially encourage broader adoption of these techniques in scientific research, effectively transforming the way we handle and interpret large-scale data.\n",
    "</p>\n",
    "\n",
    "<h1 style=\"color: #8936E0\"><b>About the Data</b></h1>\n",
    "\n",
    "<h3>Data Source & Exploration</h3>\n",
    "\n",
    "<p style=\"text-align: justify\">\n",
    "    &emsp;The dataset used for this project is the COVID-19 Open Research Dataset (CORD-19). Released by the Allen Institute for AI, CORD-19 is an extensive dataset comprising scholarly articles about COVID-19 and the coronavirus group. Updated regularly, it has been instrumental in advancing scientific research around the pandemic.\n",
    "</p>\n",
    "    \n",
    "<p style=\"text-align: justify\">\n",
    "    &emsp;CORD-19 is a resource of over 400,000 scholarly articles, about COVID-19, SARS-CoV-2, and related coronaviruses. The dataset includes articles from sources like PubMed, a repository of biomedical and life science literature, and preprint servers like bioRxiv and medRxiv. It is a rich collection that incorporates research spanning various aspects of COVID-19, from its virology to its broader socio-economic impacts.\n",
    "</p>\n",
    " \n",
    "<p style=\"text-align: justify\">\n",
    "    &emsp;The dataset is structured into several files and comes in a machine-readable JSON format, which is ideal for our big data analysis purposes. The data fields included in the dataset allow for a broad range of analysis to be carried out. The core fields included in the dataset are:\n",
    "</p>\n",
    "\n",
    "| Field Name    | Description                                                                                              |\n",
    "|---------------|----------------------------------------------------------------------------------------------------------|\n",
    "| paper_id      | A unique identifier for each paper                                                                        |\n",
    "| title         | The title of the paper                                                                                   |\n",
    "| authors       | List of authors who have contributed to the paper                                                         |\n",
    "| institutions  | Institutions associated with the authors                                                                  |\n",
    "| abstract      | An abstract of the paper                                                                                 |\n",
    "| body_text     | Full text of the paper                                                                                   |\n",
    "| bib_entries   | Bibliographic data for the paper                                                                          |\n",
    "| meta_data     | Various metadata associated with the paper (including publishing time, journal information, etc.)          |\n",
    "| country       | Country of the first author                                                                               |\n",
    "<p style=\"text-align: center;\"><b>Table 1.</b> Data Dictionary of CORD-19 Dataset</p>\n",
    "\n",
    "<p style=\"text-align: justify\">\n",
    "    &emsp;Our data analysis process will primarily focus on these fields to derive the desired insights, such as identifying the top contributors, institutions, and countries, and highlighting the trends and shifts in research focus in the COVID-19 literature.\n",
    "</p>\n",
    "\n",
    "<h3>Data Scope & Limitations</h3>\n",
    "\n",
    "<p style=\"text-align: justify\">\n",
    "    &emsp;Given the size and complexity of the CORD-19 dataset, which consists of over 400,000 scholarly articles, it was necessary to set certain boundaries for our analysis to make the project manageable within our resources and timeline. Consequently, the scope of our study was narrowed down to a subset of the dataset.\n",
    "</p>\n",
    "\n",
    "<p style=\"text-align: justify\">\n",
    "    &emsp;The scope of our analysis was confined to a 22GB subset of the CORD-19 dataset, representing research articles published on December 3 and 4, 2020. This selection was driven by the necessity to manage resources and time effectively, while focusing on a period with high research output.\n",
    "</p>\n",
    "\n",
    "<p style=\"text-align: justify\">\n",
    "    &emsp;This approach, however, introduces certain limitations. Our analysis does not encompass the full breadth of research conducted over the entire course of the pandemic, and thus may not reflect evolving global research contributions or trends. Top contributors, institutions, and countries that made significant inputs outside of these dates might not be represented. Also, our focus is limited to research publications and does not account for other forms of scientific output such as datasets, software, or patents.\n",
    "</p>\n",
    "\n",
    "<p style=\"text-align: justify\">\n",
    "    &emsp;These limitations notwithstanding, our study provides a valuable snapshot of the COVID-19 research landscape during the considered timeframe and offers insights that can inform subsequent, more extensive analyses. It also serves as a case study demonstrating the utility of big data analytics and cloud computing in the processing and analysis of large scientific datasets.\n",
    "</p>"
   ]
  },
  {
   "cell_type": "markdown",
   "id": "36f00e45",
   "metadata": {},
   "source": [
    "<h1 style=\"color: #8936E0\"><b>Methodology</b></h1>\n",
    "\n",
    "<p style=\"text-align: justify\">\n",
    "    &emsp;The methodology adopted for this project entailed the application of big data techniques, particularly Apache Spark, within a cloud computing environment. Python was the primary programming language used, given its versatility and the availability of numerous libraries that support data processing, analysis, and visualization. The procedure encompassed the following steps:\n",
    "</p>\n",
    "\n",
    "- <b>Data Preparation.</b> Given that our dataset, CORD-19, is substantial and in the machine-readable JSON format, the first step was to extract and prepare this data for processing in a distributed system like Spark. This involved converting the dataset into a format that can be distributed across multiple nodes. We used PySpark, the Python library for Spark, to read the JSON files, and then transformed the data into a distributed data structure called Resilient Distributed Dataset (RDD). RDD is a fundamental data structure of Spark that allows data to be distributed across multiple nodes in a cluster, thereby facilitating parallel processing. <b>More details on this process, including the code used, can be found in supplementary notebooks <u>supp-transfer-data.ipynb</u> and <u>supp-parquet.ipynb</u>.</b>\n",
    "\n",
    "- <b>Setting Up Amazon EMR and Loading Data onto Spark.</b> The second step was to set up an Amazon Elastic MapReduce (EMR) cluster. Amazon EMR is a cloud-based big data platform that allows the processing of large datasets using popular distributed computing frameworks such as Spark.Once the EMR cluster was set up, we used the Hadoop Distributed File System (HDFS) to distribute the dataset across the nodes in the cluster. This step ensured that the data was ready to be processed by Spark in a distributed and parallelized manner.\n",
    "\n",
    "- <b>Data Processing and Exploratory Data Analysis.</b> With the data distributed across the EMR cluster and loaded onto Spark, we proceeded to the data processing and exploratory data analysis (EDA) phase.We employed various Spark transformations and actions on the RDDs to clean and preprocess the data, such as removing duplicates, handling missing values, and filtering irrelevant information. For the EDA, we formulated and executed Spark DataFrame queries to answer our research questions. We investigated the top contributors, institutions, and countries and examined trends and shifts in research focus in the COVID-19 literature. <b>The pre-processing and plot generation codes can be found in the supplementary notebooks <u>supp-eda.ipynb</u></b>\n",
    "\n",
    "- <b>Summarization and Visualization.</b> The final step was to summarize the insights obtained from the EDA and create visualizations for better understanding and interpretation of the data. We utilized Python's data visualization libraries, such as Plotly, to generate plots and charts that represented our findings. These visualizations provided an intuitive and accessible way to understand the trends and patterns unearthed from our analysis.\n",
    "\n",
    "<p style=\"text-align: justify\">\n",
    "    &emsp;In summary, our methodology employed big data techniques, especially Spark, to handle, process, and analyze the large CORD-19 dataset. The cloud-based nature of Amazon EMR allowed us to leverage distributed computing for efficient data processing and analysis. The insights derived from our project highlight the potential of such techniques in making sense of large and complex scientific datasets.\n",
    "</p>\n",
    "\n",
    "<br>\n",
    "<center><img src=\"figures/methodology.png\" height=\"1198\" width=\"998\"/></center>\n",
    "<br>\n",
    "\n",
    "<p style=\"text-align: center\">\n",
    "    <b>Figure 2.</b> Methodology of the Project\n",
    "</p>"
   ]
  },
  {
   "cell_type": "markdown",
   "id": "e8d84d07-6b8d-4478-9468-d319d562836f",
   "metadata": {},
   "source": [
    "<h2>Data Processing</h2>"
   ]
  },
  {
   "cell_type": "markdown",
   "id": "44940bdc-9ed8-4bac-97c3-79793bc2524f",
   "metadata": {},
   "source": [
    "<b>Loading the parquet</b>"
   ]
  },
  {
   "cell_type": "code",
   "execution_count": 44,
   "id": "f986c9d1-f1b8-4aef-af2c-ad00baf34b44",
   "metadata": {
    "execution": {
     "iopub.execute_input": "2023-06-11T13:03:31.289921Z",
     "iopub.status.busy": "2023-06-11T13:03:31.289613Z",
     "iopub.status.idle": "2023-06-11T13:03:40.582285Z",
     "shell.execute_reply": "2023-06-11T13:03:40.581371Z",
     "shell.execute_reply.started": "2023-06-11T13:03:31.289894Z"
    },
    "tags": []
   },
   "outputs": [
    {
     "data": {
      "application/vnd.jupyter.widget-view+json": {
       "model_id": "6ffd418f63f541ac805634a798c7b024",
       "version_major": 2,
       "version_minor": 0
      },
      "text/plain": [
       "VBox()"
      ]
     },
     "metadata": {},
     "output_type": "display_data"
    },
    {
     "data": {
      "application/vnd.jupyter.widget-view+json": {
       "model_id": "",
       "version_major": 2,
       "version_minor": 0
      },
      "text/plain": [
       "FloatProgress(value=0.0, bar_style='info', description='Progress:', layout=Layout(height='25px', width='50%'),…"
      ]
     },
     "metadata": {},
     "output_type": "display_data"
    }
   ],
   "source": [
    "df = spark.read.parquet(\n",
    "    's3://bdcc2023-lab2-jwong/e-15ZHHQNC8TSKL9JVQ7ZZ6OU54/ssot-data/')"
   ]
  },
  {
   "cell_type": "code",
   "execution_count": 45,
   "id": "6f6262f9-814f-48d8-9150-1dee29a85950",
   "metadata": {
    "execution": {
     "iopub.execute_input": "2023-06-11T13:03:40.583766Z",
     "iopub.status.busy": "2023-06-11T13:03:40.583531Z",
     "iopub.status.idle": "2023-06-11T13:03:40.628297Z",
     "shell.execute_reply": "2023-06-11T13:03:40.627584Z",
     "shell.execute_reply.started": "2023-06-11T13:03:40.583741Z"
    },
    "tags": []
   },
   "outputs": [
    {
     "data": {
      "application/vnd.jupyter.widget-view+json": {
       "model_id": "fc9f20fee7a64cf18e24a6b10db42563",
       "version_major": 2,
       "version_minor": 0
      },
      "text/plain": [
       "VBox()"
      ]
     },
     "metadata": {},
     "output_type": "display_data"
    },
    {
     "data": {
      "application/vnd.jupyter.widget-view+json": {
       "model_id": "",
       "version_major": 2,
       "version_minor": 0
      },
      "text/plain": [
       "FloatProgress(value=0.0, bar_style='info', description='Progress:', layout=Layout(height='25px', width='50%'),…"
      ]
     },
     "metadata": {},
     "output_type": "display_data"
    }
   ],
   "source": [
    "df = df.filter(F.col('metadata').isNotNull())"
   ]
  },
  {
   "cell_type": "markdown",
   "id": "24103deb-256e-412c-8e8c-d466cf12ccbc",
   "metadata": {},
   "source": [
    "<b>Getting Top Contributing Authors</b>"
   ]
  },
  {
   "cell_type": "code",
   "execution_count": 46,
   "id": "5f55298f-c39e-406b-ac85-49e3907cca2f",
   "metadata": {
    "execution": {
     "iopub.execute_input": "2023-06-11T13:03:40.629881Z",
     "iopub.status.busy": "2023-06-11T13:03:40.629652Z",
     "iopub.status.idle": "2023-06-11T13:03:40.887868Z",
     "shell.execute_reply": "2023-06-11T13:03:40.887059Z",
     "shell.execute_reply.started": "2023-06-11T13:03:40.629858Z"
    },
    "tags": []
   },
   "outputs": [
    {
     "data": {
      "application/vnd.jupyter.widget-view+json": {
       "model_id": "9cf3603211d44490b8fd37fbfd9fad31",
       "version_major": 2,
       "version_minor": 0
      },
      "text/plain": [
       "VBox()"
      ]
     },
     "metadata": {},
     "output_type": "display_data"
    },
    {
     "data": {
      "application/vnd.jupyter.widget-view+json": {
       "model_id": "",
       "version_major": 2,
       "version_minor": 0
      },
      "text/plain": [
       "FloatProgress(value=0.0, bar_style='info', description='Progress:', layout=Layout(height='25px', width='50%'),…"
      ]
     },
     "metadata": {},
     "output_type": "display_data"
    }
   ],
   "source": [
    "top_authors = df.select(\n",
    "    F.explode(F.arrays_zip('metadata.authors.first',\n",
    "              'metadata.authors.last')).alias('fullname')\n",
    ")"
   ]
  },
  {
   "cell_type": "code",
   "execution_count": 32,
   "id": "571c595d-4e72-4c92-9f85-05341ff79f20",
   "metadata": {
    "execution": {
     "iopub.execute_input": "2023-06-11T12:47:08.083863Z",
     "iopub.status.busy": "2023-06-11T12:47:08.083532Z",
     "iopub.status.idle": "2023-06-11T12:47:08.338249Z",
     "shell.execute_reply": "2023-06-11T12:47:08.337427Z",
     "shell.execute_reply.started": "2023-06-11T12:47:08.083835Z"
    },
    "tags": []
   },
   "outputs": [
    {
     "data": {
      "application/vnd.jupyter.widget-view+json": {
       "model_id": "991399ec428e4df08c37e66c98744fc9",
       "version_major": 2,
       "version_minor": 0
      },
      "text/plain": [
       "VBox()"
      ]
     },
     "metadata": {},
     "output_type": "display_data"
    },
    {
     "data": {
      "application/vnd.jupyter.widget-view+json": {
       "model_id": "",
       "version_major": 2,
       "version_minor": 0
      },
      "text/plain": [
       "FloatProgress(value=0.0, bar_style='info', description='Progress:', layout=Layout(height='25px', width='50%'),…"
      ]
     },
     "metadata": {},
     "output_type": "display_data"
    }
   ],
   "source": [
    "top_authors = (\n",
    "    df\n",
    "    .select(F.concat_ws(' ', 'fullname.first', 'fullname.last').alias('fullname'))\n",
    "    .groupby('fullname')\n",
    "    .count()\n",
    "    .orderBy('count', ascending=False)\n",
    ")"
   ]
  },
  {
   "cell_type": "code",
   "execution_count": 39,
   "id": "aec8cb1d-14a4-45fc-bfe3-99a8cb1da824",
   "metadata": {
    "execution": {
     "iopub.execute_input": "2023-06-11T13:00:09.103190Z",
     "iopub.status.busy": "2023-06-11T13:00:09.102854Z",
     "iopub.status.idle": "2023-06-11T13:00:48.496500Z",
     "shell.execute_reply": "2023-06-11T13:00:48.495578Z",
     "shell.execute_reply.started": "2023-06-11T13:00:09.103161Z"
    }
   },
   "outputs": [
    {
     "data": {
      "application/vnd.jupyter.widget-view+json": {
       "model_id": "a045e90c41094357ad6b688aba9ccfd9",
       "version_major": 2,
       "version_minor": 0
      },
      "text/plain": [
       "VBox()"
      ]
     },
     "metadata": {},
     "output_type": "display_data"
    },
    {
     "data": {
      "application/vnd.jupyter.widget-view+json": {
       "model_id": "",
       "version_major": 2,
       "version_minor": 0
      },
      "text/plain": [
       "FloatProgress(value=0.0, bar_style='info', description='Progress:', layout=Layout(height='25px', width='50%'),…"
      ]
     },
     "metadata": {},
     "output_type": "display_data"
    },
    {
     "name": "stdout",
     "output_type": "stream",
     "text": [
      "+-----------------+-----+\n",
      "|         fullname|count|\n",
      "+-----------------+-----+\n",
      "|   Kwok-Yung Yuen|  106|\n",
      "|         Wei Wang|   82|\n",
      "|Christian Drosten|   78|\n",
      "| Benjamin Cowling|   76|\n",
      "|           Yan Li|   71|\n",
      "|       George Gao|   69|\n",
      "|      Ziad Memish|   68|\n",
      "|      Lin-Fa Wang|   67|\n",
      "|        Wei Zhang|   65|\n",
      "|           Wei Li|   62|\n",
      "|    Janet Englund|   58|\n",
      "|      Ralph Baric|   57|\n",
      "|             Y Li|   55|\n",
      "|      Shibo Jiang|   53|\n",
      "|        Jing Wang|   51|\n",
      "|           Y Wang|   51|\n",
      "|      Patrick Woo|   51|\n",
      "|         Yang Liu|   50|\n",
      "|          Wei Liu|   50|\n",
      "|      Susanna Lau|   50|\n",
      "+-----------------+-----+\n",
      "only showing top 20 rows"
     ]
    }
   ],
   "source": [
    "top_authors.filter(F.size(F.split(F.trim('fullname'), ' ')) >= 2).show()"
   ]
  },
  {
   "cell_type": "code",
   "execution_count": 40,
   "id": "baf822ad-e4a4-426e-ba88-e77ed290e7d2",
   "metadata": {
    "execution": {
     "iopub.execute_input": "2023-06-11T13:00:48.498537Z",
     "iopub.status.busy": "2023-06-11T13:00:48.498193Z",
     "iopub.status.idle": "2023-06-11T13:01:13.848586Z",
     "shell.execute_reply": "2023-06-11T13:01:13.847625Z",
     "shell.execute_reply.started": "2023-06-11T13:00:48.498499Z"
    },
    "tags": []
   },
   "outputs": [
    {
     "data": {
      "application/vnd.jupyter.widget-view+json": {
       "model_id": "a7162f18e60546799f3553a9b6100f96",
       "version_major": 2,
       "version_minor": 0
      },
      "text/plain": [
       "VBox()"
      ]
     },
     "metadata": {},
     "output_type": "display_data"
    },
    {
     "data": {
      "application/vnd.jupyter.widget-view+json": {
       "model_id": "",
       "version_major": 2,
       "version_minor": 0
      },
      "text/plain": [
       "FloatProgress(value=0.0, bar_style='info', description='Progress:', layout=Layout(height='25px', width='50%'),…"
      ]
     },
     "metadata": {},
     "output_type": "display_data"
    }
   ],
   "source": [
    "df_authors = top_authors.filter(\n",
    "    F.size(F.split(F.trim('fullname'), ' ')) >= 2).limit(100).toPandas()"
   ]
  },
  {
   "cell_type": "code",
   "execution_count": 161,
   "id": "18adaddc-2726-4525-b73f-e13e633d7a53",
   "metadata": {
    "execution": {
     "iopub.execute_input": "2023-06-11T18:58:09.611545Z",
     "iopub.status.busy": "2023-06-11T18:58:09.611223Z",
     "iopub.status.idle": "2023-06-11T18:58:10.372244Z",
     "shell.execute_reply": "2023-06-11T18:58:10.371325Z",
     "shell.execute_reply.started": "2023-06-11T18:58:09.611517Z"
    },
    "tags": []
   },
   "outputs": [
    {
     "data": {
      "application/vnd.jupyter.widget-view+json": {
       "model_id": "96825ed8e66041cf83bb98d180e2492c",
       "version_major": 2,
       "version_minor": 0
      },
      "text/plain": [
       "VBox()"
      ]
     },
     "metadata": {},
     "output_type": "display_data"
    },
    {
     "data": {
      "application/vnd.jupyter.widget-view+json": {
       "model_id": "",
       "version_major": 2,
       "version_minor": 0
      },
      "text/plain": [
       "FloatProgress(value=0.0, bar_style='info', description='Progress:', layout=Layout(height='25px', width='50%'),…"
      ]
     },
     "metadata": {},
     "output_type": "display_data"
    }
   ],
   "source": [
    "df_authors.to_csv(\n",
    "    's3://bdcc2023-lab2-jwong/e-15ZHHQNC8TSKL9JVQ7ZZ6OU54/pandas_df/top_authors.csv', index=False)"
   ]
  },
  {
   "cell_type": "markdown",
   "id": "a4c4a1f8-0734-4075-8ccc-cf017401ade5",
   "metadata": {},
   "source": [
    "<b>Getting Top Contributing Institutions</b>"
   ]
  },
  {
   "cell_type": "code",
   "execution_count": 189,
   "id": "7183f792-bd26-4b2c-b99d-8de2ff2615d6",
   "metadata": {
    "execution": {
     "iopub.execute_input": "2023-06-11T20:39:23.042585Z",
     "iopub.status.busy": "2023-06-11T20:39:23.042246Z",
     "iopub.status.idle": "2023-06-11T20:39:23.084900Z",
     "shell.execute_reply": "2023-06-11T20:39:23.084163Z",
     "shell.execute_reply.started": "2023-06-11T20:39:23.042556Z"
    },
    "tags": []
   },
   "outputs": [
    {
     "data": {
      "application/vnd.jupyter.widget-view+json": {
       "model_id": "d12f1c0cfe9143c4ade0ab1a4ba2be43",
       "version_major": 2,
       "version_minor": 0
      },
      "text/plain": [
       "VBox()"
      ]
     },
     "metadata": {},
     "output_type": "display_data"
    },
    {
     "data": {
      "application/vnd.jupyter.widget-view+json": {
       "model_id": "",
       "version_major": 2,
       "version_minor": 0
      },
      "text/plain": [
       "FloatProgress(value=0.0, bar_style='info', description='Progress:', layout=Layout(height='25px', width='50%'),…"
      ]
     },
     "metadata": {},
     "output_type": "display_data"
    },
    {
     "name": "stdout",
     "output_type": "stream",
     "text": [
      "root\n",
      " |-- metadata: struct (nullable = true)\n",
      " |    |-- authors: array (nullable = true)\n",
      " |    |    |-- element: struct (containsNull = true)\n",
      " |    |    |    |-- affiliation: struct (nullable = true)\n",
      " |    |    |    |    |-- institution: string (nullable = true)\n",
      " |    |    |    |    |-- laboratory: string (nullable = true)\n",
      " |    |    |    |    |-- location: struct (nullable = true)\n",
      " |    |    |    |    |    |-- addrLine: string (nullable = true)\n",
      " |    |    |    |    |    |-- country: string (nullable = true)\n",
      " |    |    |    |    |    |-- postBox: string (nullable = true)\n",
      " |    |    |    |    |    |-- postCode: string (nullable = true)\n",
      " |    |    |    |    |    |-- region: string (nullable = true)\n",
      " |    |    |    |    |    |-- settlement: string (nullable = true)\n",
      " |    |    |    |-- email: string (nullable = true)\n",
      " |    |    |    |-- first: string (nullable = true)\n",
      " |    |    |    |-- last: string (nullable = true)\n",
      " |    |    |    |-- middle: array (nullable = true)\n",
      " |    |    |    |    |-- element: string (containsNull = true)\n",
      " |    |    |    |-- suffix: string (nullable = true)\n",
      " |    |-- title: string (nullable = true)"
     ]
    }
   ],
   "source": [
    "df.printSchema()"
   ]
  },
  {
   "cell_type": "code",
   "execution_count": 61,
   "id": "3d92964a-6099-46b5-8d40-d6363a9e25ac",
   "metadata": {
    "execution": {
     "iopub.execute_input": "2023-06-11T13:09:48.282918Z",
     "iopub.status.busy": "2023-06-11T13:09:48.282567Z",
     "iopub.status.idle": "2023-06-11T13:09:48.534310Z",
     "shell.execute_reply": "2023-06-11T13:09:48.533477Z",
     "shell.execute_reply.started": "2023-06-11T13:09:48.282890Z"
    },
    "tags": []
   },
   "outputs": [
    {
     "data": {
      "application/vnd.jupyter.widget-view+json": {
       "model_id": "03f2af5c163b456f93886907f4972f66",
       "version_major": 2,
       "version_minor": 0
      },
      "text/plain": [
       "VBox()"
      ]
     },
     "metadata": {},
     "output_type": "display_data"
    },
    {
     "data": {
      "application/vnd.jupyter.widget-view+json": {
       "model_id": "",
       "version_major": 2,
       "version_minor": 0
      },
      "text/plain": [
       "FloatProgress(value=0.0, bar_style='info', description='Progress:', layout=Layout(height='25px', width='50%'),…"
      ]
     },
     "metadata": {},
     "output_type": "display_data"
    }
   ],
   "source": [
    "top_institutions = (\n",
    "    df\n",
    "    .select(F.explode('metadata.authors.affiliation.institution').alias('institution'))\n",
    "    .filter(F.col('institution').isNotNull() & (F.col('institution') != ''))\n",
    "    .groupby('institution')\n",
    "    .count()\n",
    "    .orderBy('count', ascending=False)\n",
    ")"
   ]
  },
  {
   "cell_type": "code",
   "execution_count": 63,
   "id": "5ba62a02-e560-4ddc-adb4-a9237202c7db",
   "metadata": {
    "execution": {
     "iopub.execute_input": "2023-06-11T13:13:53.222372Z",
     "iopub.status.busy": "2023-06-11T13:13:53.222052Z",
     "iopub.status.idle": "2023-06-11T13:14:30.610919Z",
     "shell.execute_reply": "2023-06-11T13:14:30.610026Z",
     "shell.execute_reply.started": "2023-06-11T13:13:53.222338Z"
    },
    "tags": []
   },
   "outputs": [
    {
     "data": {
      "application/vnd.jupyter.widget-view+json": {
       "model_id": "c19ccaefcc1b4ac1875523d60a5d8d34",
       "version_major": 2,
       "version_minor": 0
      },
      "text/plain": [
       "VBox()"
      ]
     },
     "metadata": {},
     "output_type": "display_data"
    },
    {
     "data": {
      "application/vnd.jupyter.widget-view+json": {
       "model_id": "",
       "version_major": 2,
       "version_minor": 0
      },
      "text/plain": [
       "FloatProgress(value=0.0, bar_style='info', description='Progress:', layout=Layout(height='25px', width='50%'),…"
      ]
     },
     "metadata": {},
     "output_type": "display_data"
    },
    {
     "name": "stdout",
     "output_type": "stream",
     "text": [
      "+---------------------------------------------+-----+\n",
      "|institution                                  |count|\n",
      "+---------------------------------------------+-----+\n",
      "|Chinese Academy of Sciences                  |1880 |\n",
      "|Huazhong University of Science and Technology|1869 |\n",
      "|University of California                     |1379 |\n",
      "|NSW                                          |1352 |\n",
      "|National Institutes of Health                |1197 |\n",
      "|The University of Hong Kong                  |1045 |\n",
      "|University of Washington                     |897  |\n",
      "|Zhejiang University                          |779  |\n",
      "|Fudan University                             |752  |\n",
      "|University of Oxford                         |750  |\n",
      "|Harvard Medical School                       |704  |\n",
      "|Chinese Academy of Agricultural Sciences     |659  |\n",
      "|Wuhan University                             |648  |\n",
      "|University of Toronto                        |597  |\n",
      "|University of Pennsylvania                   |573  |\n",
      "|Capital Medical University                   |544  |\n",
      "|The Chinese University of Hong Kong          |533  |\n",
      "|University of Michigan                       |504  |\n",
      "|University of Minnesota                      |459  |\n",
      "|Zhongnan Hospital of Wuhan University        |449  |\n",
      "+---------------------------------------------+-----+\n",
      "only showing top 20 rows"
     ]
    }
   ],
   "source": [
    "top_institutions.show(truncate=False)"
   ]
  },
  {
   "cell_type": "code",
   "execution_count": 64,
   "id": "bb5246fa-972b-45f2-b171-20dd15f19fe1",
   "metadata": {
    "execution": {
     "iopub.execute_input": "2023-06-11T13:16:43.543148Z",
     "iopub.status.busy": "2023-06-11T13:16:43.542832Z",
     "iopub.status.idle": "2023-06-11T13:17:20.924838Z",
     "shell.execute_reply": "2023-06-11T13:17:20.924041Z",
     "shell.execute_reply.started": "2023-06-11T13:16:43.543121Z"
    },
    "tags": []
   },
   "outputs": [
    {
     "data": {
      "application/vnd.jupyter.widget-view+json": {
       "model_id": "0f57fb6923e3463f8219add6412fb1ba",
       "version_major": 2,
       "version_minor": 0
      },
      "text/plain": [
       "VBox()"
      ]
     },
     "metadata": {},
     "output_type": "display_data"
    },
    {
     "data": {
      "application/vnd.jupyter.widget-view+json": {
       "model_id": "",
       "version_major": 2,
       "version_minor": 0
      },
      "text/plain": [
       "FloatProgress(value=0.0, bar_style='info', description='Progress:', layout=Layout(height='25px', width='50%'),…"
      ]
     },
     "metadata": {},
     "output_type": "display_data"
    }
   ],
   "source": [
    "df_institutions = top_institutions.limit(100).toPandas()"
   ]
  },
  {
   "cell_type": "code",
   "execution_count": 162,
   "id": "1062c315-9efa-4e2b-9fa8-d690f2c2f02b",
   "metadata": {
    "execution": {
     "iopub.execute_input": "2023-06-11T18:58:15.506180Z",
     "iopub.status.busy": "2023-06-11T18:58:15.505858Z",
     "iopub.status.idle": "2023-06-11T18:58:15.756788Z",
     "shell.execute_reply": "2023-06-11T18:58:15.755828Z",
     "shell.execute_reply.started": "2023-06-11T18:58:15.506151Z"
    },
    "tags": []
   },
   "outputs": [
    {
     "data": {
      "application/vnd.jupyter.widget-view+json": {
       "model_id": "b19b69408ec94f948652a3c5182bfe63",
       "version_major": 2,
       "version_minor": 0
      },
      "text/plain": [
       "VBox()"
      ]
     },
     "metadata": {},
     "output_type": "display_data"
    },
    {
     "data": {
      "application/vnd.jupyter.widget-view+json": {
       "model_id": "",
       "version_major": 2,
       "version_minor": 0
      },
      "text/plain": [
       "FloatProgress(value=0.0, bar_style='info', description='Progress:', layout=Layout(height='25px', width='50%'),…"
      ]
     },
     "metadata": {},
     "output_type": "display_data"
    }
   ],
   "source": [
    "df_institutions.to_csv(\n",
    "    's3://bdcc2023-lab2-jwong/e-15ZHHQNC8TSKL9JVQ7ZZ6OU54/pandas_df/top_institutions.csv', index=False)"
   ]
  },
  {
   "cell_type": "markdown",
   "id": "d9098dd1-0ebb-4388-8f91-f92cf976f74f",
   "metadata": {},
   "source": [
    "<b>Getting Top Contributing Countries</b>"
   ]
  },
  {
   "cell_type": "code",
   "execution_count": null,
   "id": "b45ad64a-4333-4851-ab71-3510634ffc92",
   "metadata": {},
   "outputs": [],
   "source": [
    "top_countries = (\n",
    "    df\n",
    "    .select(\n",
    "        'metadata.authors.affiliation.institution',\n",
    "        F.explode('metadata.authors.affiliation.location.country').alias(\n",
    "            'country')\n",
    "    )\n",
    "    .filter(F.col('country').isNotNull() & (F.col('country') != ''))\n",
    "    .select(F.initcap(F.lower(F.trim('country'))).alias('country'))\n",
    "    .select(F.regexp_replace('country', r\"[^\\w\\s]\", \"\").alias('country'))\n",
    "    .select(F.when(F.lower('country').like('%china%'), 'China').otherwise(F.col('country')).alias('country'))\n",
    "    .select(F.when(F.lower('country').like('%italy%'), 'Italy').otherwise(F.col('country')).alias('country'))\n",
    "    .select(F.when(F.lower('country').like('%france%'), 'France').otherwise(F.col('country')).alias('country'))\n",
    "    .select(F.when(F.lower('country').like('%spain%'), 'Spain').otherwise(F.col('country')).alias('country'))\n",
    "    .select(F.when(F.lower('country').like('%germany%'), 'Germany').otherwise(F.col('country')).alias('country'))\n",
    "    .select(F.when(F.lower('country').like('%canada%'), 'Canada').otherwise(F.col('country')).alias('country'))\n",
    "    .select(F.when(F.lower('country').like('%korea%'), 'Korea').otherwise(F.col('country')).alias('country'))\n",
    "    .select(F.when(F.lower('country').like('%india%'), 'India').otherwise(F.col('country')).alias('country'))\n",
    "    .select(F.when(F.lower('country').like('%japan%'), 'Japan').otherwise(F.col('country')).alias('country'))\n",
    "    .select(F.when(F.lower('country').like('%brazil%'), 'Brazil').otherwise(F.col('country')).alias('country'))\n",
    "    .select(F.when(F.lower('country').like('%taiwan%'), 'Taiwan').otherwise(F.col('country')).alias('country'))\n",
    "    .select(F.when(F.lower('country').like('%netherlands%'), 'Netherlands').otherwise(F.col('country')).alias('country'))\n",
    "    .select(F.when(F.lower('country').like('%australi%'), 'Australia').otherwise(F.col('country')).alias('country'))\n",
    "    .select(\n",
    "        F.when(F.lower(('country')).like('us%') | F.lower('country').like('%united s%'),\n",
    "               'United States of America').otherwise(F.col('country')).alias('country')\n",
    "    )\n",
    "    .select(\n",
    "        F.when(F.lower(('country')).like('uk%') | F.lower('country').like('%united k%'),\n",
    "               'United Kingdom').otherwise(F.col('country')).alias('country')\n",
    "    )\n",
    "    .groupby('country')\n",
    "    .count()\n",
    "    .orderBy('count', ascending=False)\n",
    ")"
   ]
  },
  {
   "cell_type": "code",
   "execution_count": 136,
   "id": "c1a9588f-4427-4137-9dbc-03a1b7176234",
   "metadata": {
    "execution": {
     "iopub.execute_input": "2023-06-11T17:19:33.791717Z",
     "iopub.status.busy": "2023-06-11T17:19:33.791396Z",
     "iopub.status.idle": "2023-06-11T17:19:34.037064Z",
     "shell.execute_reply": "2023-06-11T17:19:34.036235Z",
     "shell.execute_reply.started": "2023-06-11T17:19:33.791690Z"
    },
    "tags": []
   },
   "outputs": [
    {
     "data": {
      "application/vnd.jupyter.widget-view+json": {
       "model_id": "6548ce97b31844ddb0b0ec29d2ca07d3",
       "version_major": 2,
       "version_minor": 0
      },
      "text/plain": [
       "VBox()"
      ]
     },
     "metadata": {},
     "output_type": "display_data"
    },
    {
     "data": {
      "application/vnd.jupyter.widget-view+json": {
       "model_id": "",
       "version_major": 2,
       "version_minor": 0
      },
      "text/plain": [
       "FloatProgress(value=0.0, bar_style='info', description='Progress:', layout=Layout(height='25px', width='50%'),…"
      ]
     },
     "metadata": {},
     "output_type": "display_data"
    }
   ],
   "source": [
    "top_countries = (\n",
    "    df\n",
    "    .select(F.explode('metadata.authors.affiliation.location.country').alias('country'))\n",
    "    .filter(F.col('country').isNotNull() & (F.col('country') != ''))\n",
    "    .select(F.initcap(F.lower(F.trim('country'))).alias('country'))\n",
    "    .select(F.regexp_replace('country', r\"[^\\w\\s]\", \"\").alias('country'))\n",
    "    .select(F.when(F.lower('country').like('%china%'), 'China').otherwise(F.col('country')).alias('country'))\n",
    "    .select(F.when(F.lower('country').like('%italy%'), 'Italy').otherwise(F.col('country')).alias('country'))\n",
    "    .select(F.when(F.lower('country').like('%france%'), 'France').otherwise(F.col('country')).alias('country'))\n",
    "    .select(F.when(F.lower('country').like('%spain%'), 'Spain').otherwise(F.col('country')).alias('country'))\n",
    "    .select(F.when(F.lower('country').like('%germany%'), 'Germany').otherwise(F.col('country')).alias('country'))\n",
    "    .select(F.when(F.lower('country').like('%canada%'), 'Canada').otherwise(F.col('country')).alias('country'))\n",
    "    .select(F.when(F.lower('country').like('%korea%'), 'Korea').otherwise(F.col('country')).alias('country'))\n",
    "    .select(F.when(F.lower('country').like('%india%'), 'India').otherwise(F.col('country')).alias('country'))\n",
    "    .select(F.when(F.lower('country').like('%japan%'), 'Japan').otherwise(F.col('country')).alias('country'))\n",
    "    .select(F.when(F.lower('country').like('%brazil%'), 'Brazil').otherwise(F.col('country')).alias('country'))\n",
    "    .select(F.when(F.lower('country').like('%taiwan%'), 'Taiwan').otherwise(F.col('country')).alias('country'))\n",
    "    .select(F.when(F.lower('country').like('%netherlands%'), 'Netherlands').otherwise(F.col('country')).alias('country'))\n",
    "    .select(F.when(F.lower('country').like('%australi%'), 'Australia').otherwise(F.col('country')).alias('country'))\n",
    "    .select(\n",
    "        F.when(F.lower(('country')).like('us%') | F.lower('country').like('%united s%'),\n",
    "               'United States of America').otherwise(F.col('country')).alias('country')\n",
    "    )\n",
    "    .select(\n",
    "        F.when(F.lower(('country')).like('uk%') | F.lower('country').like('%united k%'),\n",
    "               'United Kingdom').otherwise(F.col('country')).alias('country')\n",
    "    )\n",
    "    .groupby('country')\n",
    "    .count()\n",
    "    .orderBy('count', ascending=False)\n",
    ")"
   ]
  },
  {
   "cell_type": "code",
   "execution_count": 137,
   "id": "b6a943b9-5be5-4d27-a40d-da24f862f1cc",
   "metadata": {
    "execution": {
     "iopub.execute_input": "2023-06-11T17:19:34.038535Z",
     "iopub.status.busy": "2023-06-11T17:19:34.038290Z",
     "iopub.status.idle": "2023-06-11T17:19:57.366161Z",
     "shell.execute_reply": "2023-06-11T17:19:57.365433Z",
     "shell.execute_reply.started": "2023-06-11T17:19:34.038510Z"
    },
    "tags": []
   },
   "outputs": [
    {
     "data": {
      "application/vnd.jupyter.widget-view+json": {
       "model_id": "07750171462d47f693219d0184d5271c",
       "version_major": 2,
       "version_minor": 0
      },
      "text/plain": [
       "VBox()"
      ]
     },
     "metadata": {},
     "output_type": "display_data"
    },
    {
     "data": {
      "application/vnd.jupyter.widget-view+json": {
       "model_id": "",
       "version_major": 2,
       "version_minor": 0
      },
      "text/plain": [
       "FloatProgress(value=0.0, bar_style='info', description='Progress:', layout=Layout(height='25px', width='50%'),…"
      ]
     },
     "metadata": {},
     "output_type": "display_data"
    },
    {
     "name": "stdout",
     "output_type": "stream",
     "text": [
      "+--------------------+-----+\n",
      "|             country|count|\n",
      "+--------------------+-----+\n",
      "|               China|33673|\n",
      "|United States of ...|28247|\n",
      "|               Italy| 9490|\n",
      "|      United Kingdom| 8504|\n",
      "|              France| 5707|\n",
      "|             Germany| 4731|\n",
      "|              Canada| 4524|\n",
      "|               Spain| 4515|\n",
      "|               Japan| 4437|\n",
      "|           Australia| 4285|\n",
      "|               Korea| 3809|\n",
      "|               India| 3435|\n",
      "|              Brazil| 2931|\n",
      "|         Netherlands| 2906|\n",
      "|              Taiwan| 2888|\n",
      "|                Iran| 1750|\n",
      "|         Switzerland| 1681|\n",
      "|             Belgium| 1545|\n",
      "|              Sweden| 1125|\n",
      "|           Singapore| 1090|\n",
      "+--------------------+-----+\n",
      "only showing top 20 rows"
     ]
    }
   ],
   "source": [
    "top_countries.show()"
   ]
  },
  {
   "cell_type": "markdown",
   "id": "553b1b05-47c7-40ff-aaca-bef7f2ab803f",
   "metadata": {},
   "source": [
    "**Top countries in uncleaned data**:\n",
    "\n",
    "China, USA, Italy, United Kingdom, France, Germany, Spain, Canada, Japan, Australia, India, Brazil, Taiwan, Netherlands"
   ]
  },
  {
   "cell_type": "code",
   "execution_count": 138,
   "id": "e85dd335-9a5f-41b1-91f8-ccbcaeb96bb7",
   "metadata": {
    "execution": {
     "iopub.execute_input": "2023-06-11T17:19:57.367881Z",
     "iopub.status.busy": "2023-06-11T17:19:57.367640Z",
     "iopub.status.idle": "2023-06-11T17:19:57.624396Z",
     "shell.execute_reply": "2023-06-11T17:19:57.623408Z",
     "shell.execute_reply.started": "2023-06-11T17:19:57.367856Z"
    },
    "tags": []
   },
   "outputs": [
    {
     "data": {
      "application/vnd.jupyter.widget-view+json": {
       "model_id": "3900885deff54409bc2ed7a71fe3627a",
       "version_major": 2,
       "version_minor": 0
      },
      "text/plain": [
       "VBox()"
      ]
     },
     "metadata": {},
     "output_type": "display_data"
    },
    {
     "data": {
      "application/vnd.jupyter.widget-view+json": {
       "model_id": "",
       "version_major": 2,
       "version_minor": 0
      },
      "text/plain": [
       "FloatProgress(value=0.0, bar_style='info', description='Progress:', layout=Layout(height='25px', width='50%'),…"
      ]
     },
     "metadata": {},
     "output_type": "display_data"
    }
   ],
   "source": [
    "distinct_countries = (\n",
    "    df\n",
    "    .select(F.explode('metadata.authors.affiliation.location.country').alias('country'))\n",
    "    .filter(F.col('country').isNotNull() & (F.col('country') != ''))\n",
    "    .distinct()\n",
    ")"
   ]
  },
  {
   "cell_type": "code",
   "execution_count": 139,
   "id": "3d1dc082-3e5b-4775-a6ed-b0d36a86efa0",
   "metadata": {
    "execution": {
     "iopub.execute_input": "2023-06-11T17:19:57.626389Z",
     "iopub.status.busy": "2023-06-11T17:19:57.626052Z",
     "iopub.status.idle": "2023-06-11T17:20:20.960394Z",
     "shell.execute_reply": "2023-06-11T17:20:20.959304Z",
     "shell.execute_reply.started": "2023-06-11T17:19:57.626347Z"
    },
    "tags": []
   },
   "outputs": [
    {
     "data": {
      "application/vnd.jupyter.widget-view+json": {
       "model_id": "3974ee42dac64eda94cb674f80a51a3f",
       "version_major": 2,
       "version_minor": 0
      },
      "text/plain": [
       "VBox()"
      ]
     },
     "metadata": {},
     "output_type": "display_data"
    },
    {
     "data": {
      "application/vnd.jupyter.widget-view+json": {
       "model_id": "",
       "version_major": 2,
       "version_minor": 0
      },
      "text/plain": [
       "FloatProgress(value=0.0, bar_style='info', description='Progress:', layout=Layout(height='25px', width='50%'),…"
      ]
     },
     "metadata": {},
     "output_type": "display_data"
    },
    {
     "name": "stdout",
     "output_type": "stream",
     "text": [
      "598"
     ]
    }
   ],
   "source": [
    "(\n",
    "    distinct_countries\n",
    "    .select(F.initcap(F.lower(F.trim('country'))).alias('country'))\n",
    "    .select(F.regexp_replace('country', r\"[^\\w\\s]\", \"\").alias('country'))\n",
    "    .select(F.when(F.lower('country').like('%china%'), 'China').otherwise(F.col('country')).alias('country'))\n",
    "    .select(F.when(F.lower('country').like('%italy%'), 'Italy').otherwise(F.col('country')).alias('country'))\n",
    "    .select(F.when(F.lower('country').like('%france%'), 'France').otherwise(F.col('country')).alias('country'))\n",
    "    .select(F.when(F.lower('country').like('%spain%'), 'Spain').otherwise(F.col('country')).alias('country'))\n",
    "    .select(F.when(F.lower('country').like('%germany%'), 'Germany').otherwise(F.col('country')).alias('country'))\n",
    "    .select(F.when(F.lower('country').like('%canada%'), 'Canada').otherwise(F.col('country')).alias('country'))\n",
    "    .select(F.when(F.lower('country').like('%korea%'), 'Korea').otherwise(F.col('country')).alias('country'))\n",
    "    .select(F.when(F.lower('country').like('%india%'), 'India').otherwise(F.col('country')).alias('country'))\n",
    "    .select(F.when(F.lower('country').like('%japan%'), 'Japan').otherwise(F.col('country')).alias('country'))\n",
    "    .select(F.when(F.lower('country').like('%brazil%'), 'Brazil').otherwise(F.col('country')).alias('country'))\n",
    "    .select(F.when(F.lower('country').like('%taiwan%'), 'Taiwan').otherwise(F.col('country')).alias('country'))\n",
    "    .select(F.when(F.lower('country').like('%netherlands%'), 'Netherlands').otherwise(F.col('country')).alias('country'))\n",
    "    .select(F.when(F.lower('country').like('%australi%'), 'Australia').otherwise(F.col('country')).alias('country'))\n",
    "    .select(\n",
    "        F.when(F.lower(('country')).like('us%') | F.lower('country').like('%united s%'),\n",
    "               'United States of America').otherwise(F.col('country')).alias('country')\n",
    "    )\n",
    "    .select(\n",
    "        F.when(F.lower(('country')).like('uk%') | F.lower('country').like('%united k%'),\n",
    "               'United Kingdom').otherwise(F.col('country')).alias('country')\n",
    "    )\n",
    "    .distinct()\n",
    ").count()"
   ]
  },
  {
   "cell_type": "code",
   "execution_count": 140,
   "id": "628bf750-594d-43a4-af5c-d0d29764aafa",
   "metadata": {
    "execution": {
     "iopub.execute_input": "2023-06-11T17:20:20.962231Z",
     "iopub.status.busy": "2023-06-11T17:20:20.961889Z",
     "iopub.status.idle": "2023-06-11T17:20:21.218086Z",
     "shell.execute_reply": "2023-06-11T17:20:21.217146Z",
     "shell.execute_reply.started": "2023-06-11T17:20:20.962194Z"
    }
   },
   "outputs": [
    {
     "data": {
      "application/vnd.jupyter.widget-view+json": {
       "model_id": "c650b261d5004b7eab22c2aab2c538d4",
       "version_major": 2,
       "version_minor": 0
      },
      "text/plain": [
       "VBox()"
      ]
     },
     "metadata": {},
     "output_type": "display_data"
    },
    {
     "data": {
      "application/vnd.jupyter.widget-view+json": {
       "model_id": "",
       "version_major": 2,
       "version_minor": 0
      },
      "text/plain": [
       "FloatProgress(value=0.0, bar_style='info', description='Progress:', layout=Layout(height='25px', width='50%'),…"
      ]
     },
     "metadata": {},
     "output_type": "display_data"
    }
   ],
   "source": [
    "top_countries = (\n",
    "    df\n",
    "    .select(F.explode('metadata.authors.affiliation.location.country').alias('country'))\n",
    "    .filter(F.col('country').isNotNull() & (F.col('country') != ''))\n",
    "    .select(F.initcap(F.lower(F.trim('country'))).alias('country'))\n",
    "    .select(F.regexp_replace('country', r\"[^\\w\\s]\", \"\").alias('country'))\n",
    "    .select(F.when(F.lower('country').like('%china%'), 'China').otherwise(F.col('country')).alias('country'))\n",
    "    .select(F.when(F.lower('country').like('%italy%'), 'Italy').otherwise(F.col('country')).alias('country'))\n",
    "    .select(F.when(F.lower('country').like('%france%'), 'France').otherwise(F.col('country')).alias('country'))\n",
    "    .select(F.when(F.lower('country').like('%spain%'), 'Spain').otherwise(F.col('country')).alias('country'))\n",
    "    .select(F.when(F.lower('country').like('%germany%'), 'Germany').otherwise(F.col('country')).alias('country'))\n",
    "    .select(F.when(F.lower('country').like('%canada%'), 'Canada').otherwise(F.col('country')).alias('country'))\n",
    "    .select(F.when(F.lower('country').like('%korea%'), 'Korea').otherwise(F.col('country')).alias('country'))\n",
    "    .select(F.when(F.lower('country').like('%india%'), 'India').otherwise(F.col('country')).alias('country'))\n",
    "    .select(F.when(F.lower('country').like('%japan%'), 'Japan').otherwise(F.col('country')).alias('country'))\n",
    "    .select(F.when(F.lower('country').like('%brazil%'), 'Brazil').otherwise(F.col('country')).alias('country'))\n",
    "    .select(F.when(F.lower('country').like('%taiwan%'), 'Taiwan').otherwise(F.col('country')).alias('country'))\n",
    "    .select(F.when(F.lower('country').like('%netherlands%'), 'Netherlands').otherwise(F.col('country')).alias('country'))\n",
    "    .select(F.when(F.lower('country').like('%australi%'), 'Australia').otherwise(F.col('country')).alias('country'))\n",
    "    .select(\n",
    "        F.when(F.lower(('country')).like('us%') | F.lower('country').like('%united s%'),\n",
    "               'United States of America').otherwise(F.col('country')).alias('country')\n",
    "    )\n",
    "    .select(\n",
    "        F.when(F.lower(('country')).like('uk%') | F.lower('country').like('%united k%'),\n",
    "               'United Kingdom').otherwise(F.col('country')).alias('country')\n",
    "    )\n",
    "    .groupby('country')\n",
    "    .count()\n",
    "    .orderBy('count', ascending=False)\n",
    ")"
   ]
  },
  {
   "cell_type": "code",
   "execution_count": 141,
   "id": "e2af6f6c-d3c2-4190-863f-10d9789a4b4e",
   "metadata": {
    "execution": {
     "iopub.execute_input": "2023-06-11T17:20:21.219716Z",
     "iopub.status.busy": "2023-06-11T17:20:21.219381Z",
     "iopub.status.idle": "2023-06-11T17:20:42.539145Z",
     "shell.execute_reply": "2023-06-11T17:20:42.538175Z",
     "shell.execute_reply.started": "2023-06-11T17:20:21.219678Z"
    }
   },
   "outputs": [
    {
     "data": {
      "application/vnd.jupyter.widget-view+json": {
       "model_id": "00a19f15e03a4985ab6f461a995b5f86",
       "version_major": 2,
       "version_minor": 0
      },
      "text/plain": [
       "VBox()"
      ]
     },
     "metadata": {},
     "output_type": "display_data"
    },
    {
     "data": {
      "application/vnd.jupyter.widget-view+json": {
       "model_id": "",
       "version_major": 2,
       "version_minor": 0
      },
      "text/plain": [
       "FloatProgress(value=0.0, bar_style='info', description='Progress:', layout=Layout(height='25px', width='50%'),…"
      ]
     },
     "metadata": {},
     "output_type": "display_data"
    }
   ],
   "source": [
    "df_countries = top_countries.limit(100).toPandas()"
   ]
  },
  {
   "cell_type": "code",
   "execution_count": 149,
   "id": "1bf37f61-1f3d-4176-80a3-a0c1204bfb26",
   "metadata": {
    "execution": {
     "iopub.execute_input": "2023-06-11T17:54:10.326724Z",
     "iopub.status.busy": "2023-06-11T17:54:10.326413Z",
     "iopub.status.idle": "2023-06-11T17:54:10.375384Z",
     "shell.execute_reply": "2023-06-11T17:54:10.374467Z",
     "shell.execute_reply.started": "2023-06-11T17:54:10.326696Z"
    },
    "tags": []
   },
   "outputs": [
    {
     "data": {
      "application/vnd.jupyter.widget-view+json": {
       "model_id": "0314aa3efac74ad58a43dbf588a55df9",
       "version_major": 2,
       "version_minor": 0
      },
      "text/plain": [
       "VBox()"
      ]
     },
     "metadata": {},
     "output_type": "display_data"
    },
    {
     "data": {
      "application/vnd.jupyter.widget-view+json": {
       "model_id": "",
       "version_major": 2,
       "version_minor": 0
      },
      "text/plain": [
       "FloatProgress(value=0.0, bar_style='info', description='Progress:', layout=Layout(height='25px', width='50%'),…"
      ]
     },
     "metadata": {},
     "output_type": "display_data"
    },
    {
     "name": "stdout",
     "output_type": "stream",
     "text": [
      "                     country  count\n",
      "0                      China  33673\n",
      "1   United States of America  28247\n",
      "2                      Italy   9490\n",
      "3             United Kingdom   8504\n",
      "4                     France   5707\n",
      "5                    Germany   4731\n",
      "6                     Canada   4524\n",
      "7                      Spain   4515\n",
      "8                      Japan   4437\n",
      "9                  Australia   4285\n",
      "10                     Korea   3809\n",
      "11                     India   3435\n",
      "12                    Brazil   2931\n",
      "13               Netherlands   2906\n",
      "14                    Taiwan   2888\n",
      "15                      Iran   1750\n",
      "16               Switzerland   1681\n",
      "17                   Belgium   1545\n",
      "18                    Sweden   1125\n",
      "19                 Singapore   1090"
     ]
    }
   ],
   "source": [
    "df_countries.head(20)"
   ]
  },
  {
   "cell_type": "code",
   "execution_count": 163,
   "id": "ca3322e2-0de6-462a-8f33-43e2abfd3118",
   "metadata": {
    "execution": {
     "iopub.execute_input": "2023-06-11T18:58:22.465054Z",
     "iopub.status.busy": "2023-06-11T18:58:22.464718Z",
     "iopub.status.idle": "2023-06-11T18:58:22.727870Z",
     "shell.execute_reply": "2023-06-11T18:58:22.726886Z",
     "shell.execute_reply.started": "2023-06-11T18:58:22.465026Z"
    },
    "tags": []
   },
   "outputs": [
    {
     "data": {
      "application/vnd.jupyter.widget-view+json": {
       "model_id": "de73e7909beb497d8154d0673b71baa6",
       "version_major": 2,
       "version_minor": 0
      },
      "text/plain": [
       "VBox()"
      ]
     },
     "metadata": {},
     "output_type": "display_data"
    },
    {
     "data": {
      "application/vnd.jupyter.widget-view+json": {
       "model_id": "",
       "version_major": 2,
       "version_minor": 0
      },
      "text/plain": [
       "FloatProgress(value=0.0, bar_style='info', description='Progress:', layout=Layout(height='25px', width='50%'),…"
      ]
     },
     "metadata": {},
     "output_type": "display_data"
    }
   ],
   "source": [
    "df_countries.to_csv(\n",
    "    's3://bdcc2023-lab2-jwong/e-15ZHHQNC8TSKL9JVQ7ZZ6OU54/pandas_df/top_countries.csv', index=False)"
   ]
  },
  {
   "cell_type": "markdown",
   "id": "123f6a21",
   "metadata": {},
   "source": [
    "<h1 style=\"color: #8936E0\"><b>Results & Discussion</b></h1>\n",
    "\n",
    "<p style=\"text-align: justify\">\n",
    "    &emsp;Having employed the big data techniques detailed in our methodology, we can now delve into the results obtained from the exploratory data analysis of the CORD-19 dataset. Please note that the analysis and results pertain to the <b>data available up until the period ending on December 4th, 2020</b>. As the dataset is continually updated, the numbers and trends may evolve beyond this period.\n",
    "</p>\n",
    "\n",
    "<h3>Top Contributors</h3>\n",
    "\n",
    "<p style=\"text-align: justify\">\n",
    "    &emsp;Identifying the top contributors provides insight into who the primary researchers are in the field of COVID-19. These individuals are key opinion leaders who often pioneer new research directions and contribute significantly to the body of knowledge on the topic. By identifying these individuals, we can recognize their work, facilitate collaborations, and encourage the academic community to explore their research, thereby accelerating our understanding of the pandemic.\n",
    "</p>"
   ]
  },
  {
   "cell_type": "code",
   "execution_count": null,
   "id": "430f449a",
   "metadata": {},
   "outputs": [],
   "source": [
    "df_authors = ps.read_csv('processed/top_authors.csv')\n",
    "df_institutions = ps.read_csv('processed/top_institutions.csv')\n",
    "df_countries = ps.read_csv('processed/top_countries.csv')\n",
    "\n",
    "fig_auth = (df_authors.iloc[:10]\n",
    "            .sort_values('count')\n",
    "            .plot.bar(x='count', y='fullname')\n",
    "           )\n",
    "\n",
    "(fig_auth.update_layout(template=\"plotly_white\",\n",
    "                        xaxis_title=\"Count of Publications\",\n",
    "                        yaxis_title=\"Authors\",\n",
    "                        title=\"Top Contributing Authors\"\n",
    "                        )\n",
    " .update_traces(marker_color='#BE75E1'))\n",
    "\n",
    "fig_auth.show(config={\n",
    "    \"editable\": True,\n",
    "    'toImageButtonOptions': {\n",
    "        'format': 'png',  # one of png, svg, jpeg, webp\n",
    "        'filename': 'fig_auth',\n",
    "        'scale': 5  # Multiply title/legend/axis/canvas sizes by this factor\n",
    "    }\n",
    "})"
   ]
  },
  {
   "cell_type": "markdown",
   "id": "afe6e998",
   "metadata": {},
   "source": [
    "<center><img src=\"figures/fig_auth.png\" height=\"1198\" width=\"998\"/></center>\n",
    "<p style=\"text-align: center\">\n",
    "    <b>Figure 2.</b> Top Contributors\n",
    "</p>"
   ]
  },
  {
   "cell_type": "markdown",
   "id": "3c49bcac",
   "metadata": {},
   "source": [
    "<p style=\"text-align: justify\">\n",
    "    &emsp;Figure 2 identified Kwon Yung Yuen, Wei Wang, and Christian Drosten as the top contributors to COVID-19 scientific literature. These individuals have made substantial contributions to the global understanding of the virus, with a significant number of publications to their names.\n",
    "</p>\n",
    "\n",
    "- <b>Kwon Yung Yuen.</b> An infectious disease expert hailing from the University of Hong Kong, Kwon Yung Yuen has a history of research on coronaviruses, particularly SARS and MERS. His extensive knowledge and experience in this field have likely driven his prolific output in COVID-19 research.\n",
    "\n",
    "- <b>Wei Wang.</b> Based at the Edith Cowan University in Australia, Wei Wang has made significant contributions to biomedical science and clinical medicine, with a focus on genomic and personalized medicine. His interdisciplinary background may have empowered him to contribute significantly to the understanding of COVID-19.\n",
    "\n",
    "- <b>Christian Drosten.</b> Christian Drosten is a renowned virologist from the Charité University Hospital in Berlin. He is known for his work on coronaviruses and was part of the team that first identified the SARS virus in 2003. This wealth of experience in coronaviruses makes his significant contribution to COVID-19 research quite expected."
   ]
  },
  {
   "cell_type": "markdown",
   "id": "eb0f083d",
   "metadata": {},
   "source": [
    "<h3>Top Contributing Institutions</h3>\n",
    "\n",
    "<p style=\"text-align: justify\">\n",
    "    &emsp;Understanding the top contributing institutions provides a perspective on which organizations are at the forefront of COVID-19 research. Institutions often have unique resources, such as specialized research equipment or expertise, which makes them particularly well-suited to conduct certain types of research. By highlighting these institutions, we can encourage partnerships, resource sharing, and collaborative efforts that can advance research more efficiently and effectively.\n",
    "</p>"
   ]
  },
  {
   "cell_type": "code",
   "execution_count": null,
   "id": "83be224e",
   "metadata": {},
   "outputs": [],
   "source": [
    "fig_inst = (df_institutions.iloc[:10]\n",
    "            .sort_values('count')\n",
    "            .plot.bar(x='count', y='institution')\n",
    "           )\n",
    "\n",
    "(fig_inst.update_layout(template=\"plotly_white\",\n",
    "                        xaxis_title=\"Count of Publications\",\n",
    "                        yaxis_title=\"Institutions\",\n",
    "                        title=\"Top Contributing Institutions\"\n",
    "                        )\n",
    " .update_traces(marker_color='#8936E0'))\n",
    "\n",
    "fig_inst.show(config={\n",
    "    \"editable\": True,\n",
    "    'toImageButtonOptions': {\n",
    "        'format': 'png',  # one of png, svg, jpeg, webp\n",
    "        'filename': 'fig_inst',\n",
    "        'scale': 5  # Multiply title/legend/axis/canvas sizes by this factor\n",
    "    }\n",
    "})"
   ]
  },
  {
   "cell_type": "markdown",
   "id": "26367342",
   "metadata": {},
   "source": [
    "<center><img src=\"figures/fig_inst.png\" height=\"1198\" width=\"998\"/></center>\n",
    "<p style=\"text-align: center\">\n",
    "    <b>Figure 3.</b> Top Contributing Institutions\n",
    "</p>"
   ]
  },
  {
   "cell_type": "markdown",
   "id": "a5ddc2d7",
   "metadata": {},
   "source": [
    "<p style=\"text-align: justify\">\n",
    "    &emsp;The top contributing institutions are the Chinese Academy of Sciences, Huazhong University of Science and Technology, and the University of California.\n",
    "</p>\n",
    "\n",
    "- <b>Chinese Academy of Sciences.</b> Given that COVID-19 was first identified in China, it is unsurprising that a Chinese institution leads the charge in COVID-19 research. The Chinese Academy of Sciences is the national research hub of China, and its contributions reflect the concerted effort by China to understand and combat the virus.\n",
    "\n",
    "- <b>Huazhong University of Science and Technology.</b> This institution is located in Wuhan, the city where the COVID-19 outbreak first emerged. Its proximity to the epicenter of the outbreak might explain its significant contribution to the global research effort.\n",
    "\n",
    "- <b>University of California.</b> The University of California is known for its strong medical and biological sciences programs. Its network of universities across the state provides a robust research infrastructure that has likely facilitated its substantial contribution to COVID-19 research."
   ]
  },
  {
   "cell_type": "markdown",
   "id": "bf21fbe0",
   "metadata": {},
   "source": [
    "<h3>Top Contributing Countries</h3>\n",
    "\n",
    "<p style=\"text-align: justify\">\n",
    "    &emsp;Finally, understanding the top contributing countries provides a geographical perspective on the global research effort against COVID-19. It offers insights into how different nations are contributing to the scientific community's understanding of the virus, its spread, and its impacts. This analysis can be instrumental for policymakers to guide resource allocation, international collaboration, and policy formulation in the ongoing fight against the pandemic.\n",
    "</p>"
   ]
  },
  {
   "cell_type": "code",
   "execution_count": null,
   "id": "377d0991",
   "metadata": {},
   "outputs": [],
   "source": [
    "fig_cntry = (df_countries.iloc[:10]\n",
    "            .sort_values('count')\n",
    "            .plot.bar(x='count', y='country')\n",
    "           )\n",
    "\n",
    "(fig_inst.update_layout(template=\"plotly_white\",\n",
    "                        xaxis_title=\"Count of Publications\",\n",
    "                        yaxis_title=\"Countries\",\n",
    "                        title=\"Top Contributing Countries\"\n",
    "                        )\n",
    " .update_traces(marker_color='#441E82'))\n",
    "\n",
    "fig_inst.show(config={\n",
    "    \"editable\": True,\n",
    "    'toImageButtonOptions': {\n",
    "        'format': 'png',  # one of png, svg, jpeg, webp\n",
    "        'filename': 'fig_cntry',\n",
    "        'scale': 5  # Multiply title/legend/axis/canvas sizes by this factor\n",
    "    }\n",
    "})"
   ]
  },
  {
   "cell_type": "markdown",
   "id": "86c61708",
   "metadata": {},
   "source": [
    "<center><img src=\"figures/fig_country.png\" height=\"1198\" width=\"998\"/></center>\n",
    "<p style=\"text-align: center\">\n",
    "    <b>Figure 4.</b> Top Contributing Countries\n",
    "</p>"
   ]
  },
  {
   "cell_type": "markdown",
   "id": "30c28e98",
   "metadata": {},
   "source": [
    "<p style=\"text-align: justify\">\n",
    "    &emsp;Finally, the analysis also highlighted China, USA, and Italy as the top contributing countries to COVID-19 scientific literature.\n",
    "</p>\n",
    "\n",
    "- <b>China.</b> As the first country to face the COVID-19 outbreak, China quickly mobilized its scientific community to study the virus. This early and intense focus on the virus likely resulted in China becoming the top contributor to the global body of COVID-19 research.\n",
    "\n",
    "- <b>USA.</b> The USA has a long history of significant contributions to medical and scientific research, backed by a robust academic and industrial research infrastructure. Despite not being the initial epicenter of the pandemic, the extensive impact of COVID-19 on the country likely spurred substantial research efforts.\n",
    "\n",
    "- <b>Italy.</b> Italy was the first country in Europe to face a major COVID-19 outbreak. The rapid and intense impact of the virus likely catalyzed a strong research response, leading to its place as one of the top contributing countries.\n",
    "\n",
    "<p style=\"text-align: justify\">\n",
    "    &emsp;In conclusion, these findings offer a compelling glimpse into the global effort to understand and combat COVID-19. These top contributors, institutions, and countries have played a pivotal role in the generation of knowledge about the virus, shaping the world's response to the pandemic.\n",
    "</p>"
   ]
  },
  {
   "cell_type": "markdown",
   "id": "fe6a47ad",
   "metadata": {},
   "source": [
    "<h1 style=\"color: #8936E0\"><b>Conclusion & Recommendations</b></h1>\n",
    "\n",
    "<p style=\"text-align: justify\">\n",
    "    &emsp;This project has served to demonstrate the power and potential of harnessing big data techniques in understanding the vast landscape of research surrounding a global health crisis. Using the CORD-19 dataset, we analyzed a snapshot of the data from December 3-4, 2020, to glean a picture of the global research landscape during the pandemic.\n",
    "</p>\n",
    "\n",
    "<p style=\"text-align: justify\">\n",
    "    &emsp;Our analysis spotlighted the efforts of key contributors such as Kwon Yung Yuen, Wei Wang, and Christian Drosten, who were instrumental in driving impactful research into COVID-19. Equally notable were the contributions from the Chinese Academy of Sciences, Huazhong University of Science and Technology, and the University of California, institutions that represented knowledge hubs where significant advancements were being made. At the country level, China, USA, and Italy emerged as the top contributors, illuminating the geographical spread of the global research effort.\n",
    "</p>\n",
    "\n",
    "<p style=\"text-align: justify\">\n",
    "    &emsp;It's important to acknowledge that these findings represent a moment in time, specifically up until December 4, 2020. The research landscape continues to evolve, and the trends and insights we've gleaned may have shifted since then. Therefore, while these results provide an interesting snapshot, they underscore the need for continual analysis of the dataset to keep abreast of the most current research trends and shifts.\n",
    "</p>\n",
    "\n",
    "<p style=\"text-align: justify\">\n",
    "    &emsp;Our findings and the project as a whole highlight the potential of big data and cloud computing in managing, processing, and extracting insights from large-scale scientific literature. The adoption of these techniques can be transformative for future scientific research and holds the promise of fundamentally altering our understanding and interpretation of large-scale scientific data.\n",
    "</p>\n",
    "\n",
    "<p style=\"text-align: justify\">\n",
    "    &emsp;In conclusion, our work provides a critical understanding of the global research landscape during the COVID-19 pandemic, highlighting the power of big data analytics in deriving these insights. However, we also look forward to future explorations that leverage the continuously updating nature of the dataset and offer an even more timely and nuanced understanding of the ongoing scientific discourse.\n",
    "</p>\n",
    "\n",
    "<h3>Recommendations</h3>\n",
    "\n",
    "- <b>Continual Analysis.</b> The CORD-19 dataset is regularly updated with new research papers, and as such, the data analyzed in this project represents a snapshot in time. Future efforts should aim to set up a continual or real-time analysis pipeline to stay up-to-date with the latest research trends and shifts.\n",
    "\n",
    "- <b>Expanding the Scope of Analysis.</b> Our analysis primarily focused on identifying top contributors, institutions, and countries. While these aspects are important, future projects could expand the scope to include more detailed analyses, such as thematic trends in research, co-authorship networks, citation analysis, and more.\n",
    "\n",
    "- <b>Integrating Additional Datasets.</b> While the CORD-19 dataset is comprehensive, integrating additional datasets could enhance the analysis. For example, incorporating citation databases could provide insights into the influence of specific papers or authors. Including non-English research papers could broaden the scope and inclusivity of the analysis.\n",
    "\n",
    "- <b>Leveraging Natural Language Processing (NLP).</b> The CORD-19 dataset contains a wealth of textual data, ripe for analysis via Natural Language Processing techniques. Using NLP, future work could perform more nuanced analyses, such as sentiment analysis, topic modeling, or text classification to further understand the content and trends within the research papers."
   ]
  },
  {
   "cell_type": "markdown",
   "id": "015c9c42",
   "metadata": {},
   "source": [
    "<h1 style=\"color: #8936E0\"><b>References</b></h1>\n",
    "\n",
    "[1] Why has Italy suffered so badly during the pandemic?. World Economic Forum. (n.d.). https://www.weforum.org/agenda/2020/12/italy-death-toll-pandemic-covid-coronavirus-health-population-europe/ \n",
    "\n",
    "[2] Guardian News and Media. (2020, March 22). Coronavirus: Meet the scientists who are now household names. The Guardian. https://www.theguardian.com/world/2020/mar/22/coronavirus-meet-the-scientists-who-are-now-household-names "
   ]
  }
 ],
 "metadata": {
  "kernelspec": {
   "display_name": "Python 3 (ipykernel)",
   "language": "python",
   "name": "python3"
  },
  "language_info": {
   "codemirror_mode": {
    "name": "ipython",
    "version": 3
   },
   "file_extension": ".py",
   "mimetype": "text/x-python",
   "name": "python",
   "nbconvert_exporter": "python",
   "pygments_lexer": "ipython3",
   "version": "3.9.12"
  },
  "latex_envs": {
   "LaTeX_envs_menu_present": true,
   "autoclose": false,
   "autocomplete": true,
   "bibliofile": "biblio.bib",
   "cite_by": "apalike",
   "current_citInitial": 1,
   "eqLabelWithNumbers": true,
   "eqNumInitial": 1,
   "hotkeys": {
    "equation": "Ctrl-E",
    "itemize": "Ctrl-I"
   },
   "labels_anchors": false,
   "latex_user_defs": false,
   "report_style_numbering": false,
   "user_envs_cfg": false
  },
  "toc": {
   "base_numbering": 1,
   "nav_menu": {},
   "number_sections": true,
   "sideBar": true,
   "skip_h1_title": false,
   "title_cell": "Table of Contents",
   "title_sidebar": "Contents",
   "toc_cell": false,
   "toc_position": {},
   "toc_section_display": true,
   "toc_window_display": false
  },
  "varInspector": {
   "cols": {
    "lenName": 16,
    "lenType": 16,
    "lenVar": 40
   },
   "kernels_config": {
    "python": {
     "delete_cmd_postfix": "",
     "delete_cmd_prefix": "del ",
     "library": "var_list.py",
     "varRefreshCmd": "print(var_dic_list())"
    },
    "r": {
     "delete_cmd_postfix": ") ",
     "delete_cmd_prefix": "rm(",
     "library": "var_list.r",
     "varRefreshCmd": "cat(var_dic_list()) "
    }
   },
   "types_to_exclude": [
    "module",
    "function",
    "builtin_function_or_method",
    "instance",
    "_Feature"
   ],
   "window_display": false
  }
 },
 "nbformat": 4,
 "nbformat_minor": 5
}
