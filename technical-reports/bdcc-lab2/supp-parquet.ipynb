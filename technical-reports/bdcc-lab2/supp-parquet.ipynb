{
 "cells": [
  {
   "cell_type": "code",
   "execution_count": 1,
   "id": "1575769b-882a-4d1c-9dee-ad27617981a1",
   "metadata": {
    "execution": {
     "iopub.execute_input": "2023-06-10T20:36:37.171578Z",
     "iopub.status.busy": "2023-06-10T20:36:37.171233Z",
     "iopub.status.idle": "2023-06-10T20:37:07.849685Z",
     "shell.execute_reply": "2023-06-10T20:37:07.849012Z",
     "shell.execute_reply.started": "2023-06-10T20:36:37.171548Z"
    },
    "tags": []
   },
   "outputs": [
    {
     "data": {
      "application/vnd.jupyter.widget-view+json": {
       "model_id": "13a4a3e428a349579e94b0db91fedc93",
       "version_major": 2,
       "version_minor": 0
      },
      "text/plain": [
       "VBox()"
      ]
     },
     "metadata": {},
     "output_type": "display_data"
    },
    {
     "name": "stdout",
     "output_type": "stream",
     "text": [
      "Starting Spark application\n"
     ]
    },
    {
     "data": {
      "text/html": [
       "<table>\n",
       "<tbody><tr><th>ID</th><th>YARN Application ID</th><th>Kind</th><th>State</th><th>Spark UI</th><th>Driver log</th><th>User</th><th>Current session?</th></tr><tr><td>12</td><td>application_1686375930022_0013</td><td>pyspark</td><td>idle</td><td><a target=\"_blank\" href=\"http://ip-172-31-43-221.ec2.internal:20888/proxy/application_1686375930022_0013/\" class=\"emr-proxy-link j-1DDS27DCVOE09 application_1686375930022_0013\" emr-resource=\"j-1DDS27DCVOE09\n",
       "\" application-id=\"application_1686375930022_0013\">Link</a></td><td><a target=\"_blank\" href=\"http://ip-172-31-32-167.ec2.internal:8042/node/containerlogs/container_1686375930022_0013_01_000002/livy\">Link</a></td><td>None</td><td>✔</td></tr></tbody></table>"
      ],
      "text/plain": [
       "<IPython.core.display.HTML object>"
      ]
     },
     "metadata": {},
     "output_type": "display_data"
    },
    {
     "data": {
      "application/vnd.jupyter.widget-view+json": {
       "model_id": "",
       "version_major": 2,
       "version_minor": 0
      },
      "text/plain": [
       "FloatProgress(value=0.0, bar_style='info', description='Progress:', layout=Layout(height='25px', width='50%'),…"
      ]
     },
     "metadata": {},
     "output_type": "display_data"
    },
    {
     "name": "stdout",
     "output_type": "stream",
     "text": [
      "SparkSession available as 'spark'.\n"
     ]
    },
    {
     "data": {
      "application/vnd.jupyter.widget-view+json": {
       "model_id": "",
       "version_major": 2,
       "version_minor": 0
      },
      "text/plain": [
       "FloatProgress(value=0.0, bar_style='info', description='Progress:', layout=Layout(height='25px', width='50%'),…"
      ]
     },
     "metadata": {},
     "output_type": "display_data"
    }
   ],
   "source": [
    "#"
   ]
  },
  {
   "cell_type": "code",
   "execution_count": 5,
   "id": "a63c2b2d-d3f9-4ccf-8074-5aa680ba8a69",
   "metadata": {
    "execution": {
     "iopub.execute_input": "2023-06-10T21:38:39.588071Z",
     "iopub.status.busy": "2023-06-10T21:38:39.587752Z",
     "iopub.status.idle": "2023-06-10T21:38:39.627129Z",
     "shell.execute_reply": "2023-06-10T21:38:39.626413Z",
     "shell.execute_reply.started": "2023-06-10T21:38:39.588044Z"
    },
    "tags": []
   },
   "outputs": [
    {
     "data": {
      "application/vnd.jupyter.widget-view+json": {
       "model_id": "2d19932e703c4c9fa026f17417e354f5",
       "version_major": 2,
       "version_minor": 0
      },
      "text/plain": [
       "VBox()"
      ]
     },
     "metadata": {},
     "output_type": "display_data"
    },
    {
     "data": {
      "application/vnd.jupyter.widget-view+json": {
       "model_id": "",
       "version_major": 2,
       "version_minor": 0
      },
      "text/plain": [
       "FloatProgress(value=0.0, bar_style='info', description='Progress:', layout=Layout(height='25px', width='50%'),…"
      ]
     },
     "metadata": {},
     "output_type": "display_data"
    }
   ],
   "source": [
    "import pyspark.sql.functions as F"
   ]
  },
  {
   "cell_type": "markdown",
   "id": "9554aaad-ab37-49ae-b658-0605b6e6c95f",
   "metadata": {},
   "source": [
    "# Create Parquet Files"
   ]
  },
  {
   "cell_type": "markdown",
   "id": "5be71e3b-80c0-40ff-8c7d-c9355ead98ae",
   "metadata": {},
   "source": [
    "## Schema"
   ]
  },
  {
   "cell_type": "code",
   "execution_count": null,
   "id": "945406fb-c0d0-42c5-acbc-8802411ea6c9",
   "metadata": {},
   "outputs": [],
   "source": [
    "'''\n",
    "    root\n",
    "     |-- metadata: struct (nullable = true)\n",
    "     |    |-- authors: array (nullable = true)\n",
    "     |    |    |-- element: struct (containsNull = true)\n",
    "     |    |    |    |-- affiliation: struct (nullable = true)\n",
    "     |    |    |    |    |-- institution: string (nullable = true)\n",
    "     |    |    |    |    |-- laboratory: string (nullable = true)\n",
    "     |    |    |    |    |-- location: struct (nullable = true)\n",
    "     |    |    |    |    |    |-- addrLine: string (nullable = true)\n",
    "     |    |    |    |    |    |-- country: string (nullable = true)\n",
    "     |    |    |    |    |    |-- postBox: string (nullable = true)\n",
    "     |    |    |    |    |    |-- postCode: string (nullable = true)\n",
    "     |    |    |    |    |    |-- region: string (nullable = true)\n",
    "     |    |    |    |    |    |-- settlement: string (nullable = true)\n",
    "     |    |    |    |-- email: string (nullable = true)\n",
    "     |    |    |    |-- first: string (nullable = true)\n",
    "     |    |    |    |-- last: string (nullable = true)\n",
    "     |    |    |    |-- middle: array (nullable = true)\n",
    "     |    |    |    |    |-- element: string (containsNull = true)\n",
    "     |    |    |    |-- suffix: string (nullable = true)\n",
    "     |    |-- title: string (nullable = true)\n",
    "'''"
   ]
  },
  {
   "cell_type": "markdown",
   "id": "e77d139f-7572-46d4-9245-ccde15e8ff99",
   "metadata": {},
   "source": [
    "## Load incomplete `2020-12-01`"
   ]
  },
  {
   "cell_type": "code",
   "execution_count": 1,
   "id": "3b120588-ebef-44a4-b76a-77bbb8ded284",
   "metadata": {
    "execution": {
     "iopub.execute_input": "2023-06-10T21:32:28.373439Z",
     "iopub.status.busy": "2023-06-10T21:32:28.373060Z",
     "iopub.status.idle": "2023-06-10T21:34:20.526392Z",
     "shell.execute_reply": "2023-06-10T21:34:20.525671Z",
     "shell.execute_reply.started": "2023-06-10T21:32:28.373408Z"
    },
    "tags": []
   },
   "outputs": [
    {
     "data": {
      "application/vnd.jupyter.widget-view+json": {
       "model_id": "b0894ea2f2b44e71af93af3fa9be7e40",
       "version_major": 2,
       "version_minor": 0
      },
      "text/plain": [
       "VBox()"
      ]
     },
     "metadata": {},
     "output_type": "display_data"
    },
    {
     "name": "stdout",
     "output_type": "stream",
     "text": [
      "Starting Spark application\n"
     ]
    },
    {
     "data": {
      "text/html": [
       "<table>\n",
       "<tbody><tr><th>ID</th><th>YARN Application ID</th><th>Kind</th><th>State</th><th>Spark UI</th><th>Driver log</th><th>User</th><th>Current session?</th></tr><tr><td>13</td><td>application_1686375930022_0014</td><td>pyspark</td><td>idle</td><td><a target=\"_blank\" href=\"http://ip-172-31-43-221.ec2.internal:20888/proxy/application_1686375930022_0014/\" class=\"emr-proxy-link j-1DDS27DCVOE09 application_1686375930022_0014\" emr-resource=\"j-1DDS27DCVOE09\n",
       "\" application-id=\"application_1686375930022_0014\">Link</a></td><td><a target=\"_blank\" href=\"http://ip-172-31-42-69.ec2.internal:8042/node/containerlogs/container_1686375930022_0014_01_000001/livy\">Link</a></td><td>None</td><td>✔</td></tr></tbody></table>"
      ],
      "text/plain": [
       "<IPython.core.display.HTML object>"
      ]
     },
     "metadata": {},
     "output_type": "display_data"
    },
    {
     "data": {
      "application/vnd.jupyter.widget-view+json": {
       "model_id": "",
       "version_major": 2,
       "version_minor": 0
      },
      "text/plain": [
       "FloatProgress(value=0.0, bar_style='info', description='Progress:', layout=Layout(height='25px', width='50%'),…"
      ]
     },
     "metadata": {},
     "output_type": "display_data"
    },
    {
     "name": "stdout",
     "output_type": "stream",
     "text": [
      "SparkSession available as 'spark'.\n"
     ]
    },
    {
     "data": {
      "application/vnd.jupyter.widget-view+json": {
       "model_id": "",
       "version_major": 2,
       "version_minor": 0
      },
      "text/plain": [
       "FloatProgress(value=0.0, bar_style='info', description='Progress:', layout=Layout(height='25px', width='50%'),…"
      ]
     },
     "metadata": {},
     "output_type": "display_data"
    }
   ],
   "source": [
    "path = 's3://bdcc2023-lab2-jwong/e-15ZHHQNC8TSKL9JVQ7ZZ6OU54/2020-12-01/document_parses/pdf_json/'\n",
    "df_01 = spark.read.json(path)"
   ]
  },
  {
   "cell_type": "code",
   "execution_count": 6,
   "id": "efa111cc-154f-4ba3-b66d-f5b52a815ad6",
   "metadata": {
    "execution": {
     "iopub.execute_input": "2023-06-10T21:38:44.014962Z",
     "iopub.status.busy": "2023-06-10T21:38:44.014536Z",
     "iopub.status.idle": "2023-06-10T21:39:53.457284Z",
     "shell.execute_reply": "2023-06-10T21:39:53.456396Z",
     "shell.execute_reply.started": "2023-06-10T21:38:44.014919Z"
    },
    "tags": []
   },
   "outputs": [
    {
     "data": {
      "application/vnd.jupyter.widget-view+json": {
       "model_id": "5f9ec80f8da640f8b14078dfb0343d45",
       "version_major": 2,
       "version_minor": 0
      },
      "text/plain": [
       "VBox()"
      ]
     },
     "metadata": {},
     "output_type": "display_data"
    },
    {
     "data": {
      "application/vnd.jupyter.widget-view+json": {
       "model_id": "",
       "version_major": 2,
       "version_minor": 0
      },
      "text/plain": [
       "FloatProgress(value=0.0, bar_style='info', description='Progress:', layout=Layout(height='25px', width='50%'),…"
      ]
     },
     "metadata": {},
     "output_type": "display_data"
    },
    {
     "name": "stdout",
     "output_type": "stream",
     "text": [
      "26088334"
     ]
    }
   ],
   "source": [
    "df_01.select(F.col('metadata').isNotNull()).count()"
   ]
  },
  {
   "cell_type": "markdown",
   "id": "ac3e5268-d40c-4151-a5a6-08b218453d01",
   "metadata": {},
   "source": [
    "## Load `2020-12-03` data"
   ]
  },
  {
   "cell_type": "code",
   "execution_count": 32,
   "id": "d24055ff-e201-46bc-a184-3da1eec60886",
   "metadata": {
    "execution": {
     "iopub.execute_input": "2023-06-10T21:20:07.344191Z",
     "iopub.status.busy": "2023-06-10T21:20:07.343872Z",
     "iopub.status.idle": "2023-06-10T21:21:58.426944Z",
     "shell.execute_reply": "2023-06-10T21:21:58.426291Z",
     "shell.execute_reply.started": "2023-06-10T21:20:07.344166Z"
    },
    "tags": []
   },
   "outputs": [
    {
     "data": {
      "application/vnd.jupyter.widget-view+json": {
       "model_id": "5b0dcc337786499cbaf44ca459a61577",
       "version_major": 2,
       "version_minor": 0
      },
      "text/plain": [
       "VBox()"
      ]
     },
     "metadata": {},
     "output_type": "display_data"
    },
    {
     "data": {
      "application/vnd.jupyter.widget-view+json": {
       "model_id": "",
       "version_major": 2,
       "version_minor": 0
      },
      "text/plain": [
       "FloatProgress(value=0.0, bar_style='info', description='Progress:', layout=Layout(height='25px', width='50%'),…"
      ]
     },
     "metadata": {},
     "output_type": "display_data"
    }
   ],
   "source": [
    "path = 's3a://bdcc2023-lab2-jwong/e-15ZHHQNC8TSKL9JVQ7ZZ6OU54/2020-12//3/document_parses/pdf_json/*.json'\n",
    "df_03 = spark.read.json(path)"
   ]
  },
  {
   "cell_type": "markdown",
   "id": "4a2ac6e0-adf6-420a-8b1f-753e5abe99df",
   "metadata": {},
   "source": [
    "## Load `2020-12-04` data"
   ]
  },
  {
   "cell_type": "code",
   "execution_count": 3,
   "id": "02fa1c3f-5f9b-46bb-bbcc-cdeae944dc1f",
   "metadata": {
    "execution": {
     "iopub.execute_input": "2023-06-10T20:37:07.894607Z",
     "iopub.status.busy": "2023-06-10T20:37:07.894385Z",
     "iopub.status.idle": "2023-06-10T20:46:38.705201Z",
     "shell.execute_reply": "2023-06-10T20:46:38.704540Z",
     "shell.execute_reply.started": "2023-06-10T20:37:07.894585Z"
    },
    "tags": []
   },
   "outputs": [
    {
     "data": {
      "application/vnd.jupyter.widget-view+json": {
       "model_id": "87c106afd86d4b6d967fb8d25f15090b",
       "version_major": 2,
       "version_minor": 0
      },
      "text/plain": [
       "VBox()"
      ]
     },
     "metadata": {},
     "output_type": "display_data"
    },
    {
     "data": {
      "application/vnd.jupyter.widget-view+json": {
       "model_id": "",
       "version_major": 2,
       "version_minor": 0
      },
      "text/plain": [
       "FloatProgress(value=0.0, bar_style='info', description='Progress:', layout=Layout(height='25px', width='50%'),…"
      ]
     },
     "metadata": {},
     "output_type": "display_data"
    }
   ],
   "source": [
    "path = 's3a://bdcc2023-lab2-jwong/e-15ZHHQNC8TSKL9JVQ7ZZ6OU54/2020-12/'\n",
    "df_04 = spark.read.json(path)"
   ]
  },
  {
   "cell_type": "code",
   "execution_count": 7,
   "id": "f7bf90ce-0b43-4bcc-a5ee-b904a76e447f",
   "metadata": {
    "execution": {
     "iopub.execute_input": "2023-06-10T20:48:41.105287Z",
     "iopub.status.busy": "2023-06-10T20:48:41.104978Z",
     "iopub.status.idle": "2023-06-10T20:48:41.349127Z",
     "shell.execute_reply": "2023-06-10T20:48:41.348478Z",
     "shell.execute_reply.started": "2023-06-10T20:48:41.105262Z"
    },
    "tags": []
   },
   "outputs": [
    {
     "data": {
      "application/vnd.jupyter.widget-view+json": {
       "model_id": "85e1c69f847c4aa991a9595b40499e9e",
       "version_major": 2,
       "version_minor": 0
      },
      "text/plain": [
       "VBox()"
      ]
     },
     "metadata": {},
     "output_type": "display_data"
    },
    {
     "data": {
      "application/vnd.jupyter.widget-view+json": {
       "model_id": "",
       "version_major": 2,
       "version_minor": 0
      },
      "text/plain": [
       "FloatProgress(value=0.0, bar_style='info', description='Progress:', layout=Layout(height='25px', width='50%'),…"
      ]
     },
     "metadata": {},
     "output_type": "display_data"
    }
   ],
   "source": [
    "new_df = df_01.select('metadata').union(df_04.select('metadata'))"
   ]
  },
  {
   "cell_type": "code",
   "execution_count": 9,
   "id": "0c6dcd41-6338-47ac-a422-df6b0f044891",
   "metadata": {
    "execution": {
     "iopub.execute_input": "2023-06-10T20:48:52.551509Z",
     "iopub.status.busy": "2023-06-10T20:48:52.551210Z",
     "iopub.status.idle": "2023-06-10T20:59:07.561339Z",
     "shell.execute_reply": "2023-06-10T20:59:07.560651Z",
     "shell.execute_reply.started": "2023-06-10T20:48:52.551483Z"
    },
    "tags": []
   },
   "outputs": [
    {
     "data": {
      "application/vnd.jupyter.widget-view+json": {
       "model_id": "b422b71e271b4fc490c64d19c51eb261",
       "version_major": 2,
       "version_minor": 0
      },
      "text/plain": [
       "VBox()"
      ]
     },
     "metadata": {},
     "output_type": "display_data"
    },
    {
     "data": {
      "application/vnd.jupyter.widget-view+json": {
       "model_id": "",
       "version_major": 2,
       "version_minor": 0
      },
      "text/plain": [
       "FloatProgress(value=0.0, bar_style='info', description='Progress:', layout=Layout(height='25px', width='50%'),…"
      ]
     },
     "metadata": {},
     "output_type": "display_data"
    }
   ],
   "source": [
    "new_df.write.parquet('s3://bdcc2023-lab2-jwong/e-15ZHHQNC8TSKL9JVQ7ZZ6OU54/ssot-data/')"
   ]
  },
  {
   "cell_type": "code",
   "execution_count": 10,
   "id": "3e0e5c2a-4944-497a-a15a-5a7c00a8fee8",
   "metadata": {
    "execution": {
     "iopub.execute_input": "2023-06-10T21:59:38.179575Z",
     "iopub.status.busy": "2023-06-10T21:59:38.179230Z",
     "iopub.status.idle": "2023-06-10T21:59:47.454331Z",
     "shell.execute_reply": "2023-06-10T21:59:47.453552Z",
     "shell.execute_reply.started": "2023-06-10T21:59:38.179545Z"
    },
    "tags": []
   },
   "outputs": [
    {
     "data": {
      "application/vnd.jupyter.widget-view+json": {
       "model_id": "e578263666824126ba753d48a6d3ef40",
       "version_major": 2,
       "version_minor": 0
      },
      "text/plain": [
       "VBox()"
      ]
     },
     "metadata": {},
     "output_type": "display_data"
    },
    {
     "data": {
      "application/vnd.jupyter.widget-view+json": {
       "model_id": "",
       "version_major": 2,
       "version_minor": 0
      },
      "text/plain": [
       "FloatProgress(value=0.0, bar_style='info', description='Progress:', layout=Layout(height='25px', width='50%'),…"
      ]
     },
     "metadata": {},
     "output_type": "display_data"
    }
   ],
   "source": [
    "parquet_df = spark.read.parquet('s3://bdcc2023-lab2-jwong/e-15ZHHQNC8TSKL9JVQ7ZZ6OU54/ssot-data/')"
   ]
  },
  {
   "cell_type": "code",
   "execution_count": 12,
   "id": "21c2b204-e7cd-491e-b6af-5944b90f4c09",
   "metadata": {
    "execution": {
     "iopub.execute_input": "2023-06-10T22:00:19.236973Z",
     "iopub.status.busy": "2023-06-10T22:00:19.236657Z",
     "iopub.status.idle": "2023-06-10T22:00:19.276137Z",
     "shell.execute_reply": "2023-06-10T22:00:19.274961Z",
     "shell.execute_reply.started": "2023-06-10T22:00:19.236947Z"
    },
    "tags": []
   },
   "outputs": [
    {
     "data": {
      "application/vnd.jupyter.widget-view+json": {
       "model_id": "22dbfd2d2b3843d89d650b60b34c02f3",
       "version_major": 2,
       "version_minor": 0
      },
      "text/plain": [
       "VBox()"
      ]
     },
     "metadata": {},
     "output_type": "display_data"
    },
    {
     "data": {
      "application/vnd.jupyter.widget-view+json": {
       "model_id": "",
       "version_major": 2,
       "version_minor": 0
      },
      "text/plain": [
       "FloatProgress(value=0.0, bar_style='info', description='Progress:', layout=Layout(height='25px', width='50%'),…"
      ]
     },
     "metadata": {},
     "output_type": "display_data"
    },
    {
     "name": "stdout",
     "output_type": "stream",
     "text": [
      "root\n",
      " |-- metadata: struct (nullable = true)\n",
      " |    |-- authors: array (nullable = true)\n",
      " |    |    |-- element: struct (containsNull = true)\n",
      " |    |    |    |-- affiliation: struct (nullable = true)\n",
      " |    |    |    |    |-- institution: string (nullable = true)\n",
      " |    |    |    |    |-- laboratory: string (nullable = true)\n",
      " |    |    |    |    |-- location: struct (nullable = true)\n",
      " |    |    |    |    |    |-- addrLine: string (nullable = true)\n",
      " |    |    |    |    |    |-- country: string (nullable = true)\n",
      " |    |    |    |    |    |-- postBox: string (nullable = true)\n",
      " |    |    |    |    |    |-- postCode: string (nullable = true)\n",
      " |    |    |    |    |    |-- region: string (nullable = true)\n",
      " |    |    |    |    |    |-- settlement: string (nullable = true)\n",
      " |    |    |    |-- email: string (nullable = true)\n",
      " |    |    |    |-- first: string (nullable = true)\n",
      " |    |    |    |-- last: string (nullable = true)\n",
      " |    |    |    |-- middle: array (nullable = true)\n",
      " |    |    |    |    |-- element: string (containsNull = true)\n",
      " |    |    |    |-- suffix: string (nullable = true)\n",
      " |    |-- title: string (nullable = true)"
     ]
    }
   ],
   "source": [
    "parquet_df.printSchema()"
   ]
  },
  {
   "cell_type": "code",
   "execution_count": 13,
   "id": "8cdc78c8-f274-471f-8b20-d5797d36ba95",
   "metadata": {
    "execution": {
     "iopub.execute_input": "2023-06-10T22:00:33.449794Z",
     "iopub.status.busy": "2023-06-10T22:00:33.449455Z",
     "iopub.status.idle": "2023-06-10T22:00:33.497896Z",
     "shell.execute_reply": "2023-06-10T22:00:33.497059Z",
     "shell.execute_reply.started": "2023-06-10T22:00:33.449768Z"
    },
    "tags": []
   },
   "outputs": [
    {
     "data": {
      "application/vnd.jupyter.widget-view+json": {
       "model_id": "14b016f9c3dd46188194a8eae364b716",
       "version_major": 2,
       "version_minor": 0
      },
      "text/plain": [
       "VBox()"
      ]
     },
     "metadata": {},
     "output_type": "display_data"
    },
    {
     "data": {
      "application/vnd.jupyter.widget-view+json": {
       "model_id": "",
       "version_major": 2,
       "version_minor": 0
      },
      "text/plain": [
       "FloatProgress(value=0.0, bar_style='info', description='Progress:', layout=Layout(height='25px', width='50%'),…"
      ]
     },
     "metadata": {},
     "output_type": "display_data"
    }
   ],
   "source": [
    "filtered_parquet = parquet_df.filter(F.col('metadata').isNotNull())"
   ]
  },
  {
   "cell_type": "code",
   "execution_count": null,
   "id": "b8fe61a0-efe4-43b1-912e-84c1714544a8",
   "metadata": {},
   "outputs": [],
   "source": [
    "# filtered_parquet.write.parquet('s3://bdcc2023-lab2-jwong/e-15ZHHQNC8TSKL9JVQ7ZZ6OU54/ssot-data/')"
   ]
  }
 ],
 "metadata": {
  "kernelspec": {
   "display_name": "PySpark",
   "language": "",
   "name": "pysparkkernel"
  },
  "language_info": {
   "codemirror_mode": {
    "name": "python",
    "version": 3
   },
   "file_extension": ".py",
   "mimetype": "text/x-python",
   "name": "pyspark",
   "pygments_lexer": "python3"
  }
 },
 "nbformat": 4,
 "nbformat_minor": 5
}
