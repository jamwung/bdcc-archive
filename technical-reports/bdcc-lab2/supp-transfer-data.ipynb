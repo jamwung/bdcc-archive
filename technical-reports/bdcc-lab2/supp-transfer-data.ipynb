{
 "cells": [
  {
   "cell_type": "markdown",
   "id": "d22dffb4-f991-45f5-8189-8d2487bcd972",
   "metadata": {},
   "source": [
    "# Converting to Parquet"
   ]
  },
  {
   "cell_type": "code",
   "execution_count": 1,
   "id": "2af4bc38-2572-4b0b-a7d6-5eb3425555a4",
   "metadata": {
    "execution": {
     "iopub.execute_input": "2023-06-10T11:08:16.502309Z",
     "iopub.status.busy": "2023-06-10T11:08:16.501838Z",
     "iopub.status.idle": "2023-06-10T11:08:49.232674Z",
     "shell.execute_reply": "2023-06-10T11:08:49.231974Z",
     "shell.execute_reply.started": "2023-06-10T11:08:16.502263Z"
    },
    "tags": []
   },
   "outputs": [
    {
     "data": {
      "application/vnd.jupyter.widget-view+json": {
       "model_id": "b259779b339f4c0c8fdc6486dc1d634b",
       "version_major": 2,
       "version_minor": 0
      },
      "text/plain": [
       "VBox()"
      ]
     },
     "metadata": {},
     "output_type": "display_data"
    },
    {
     "name": "stdout",
     "output_type": "stream",
     "text": [
      "Starting Spark application\n"
     ]
    },
    {
     "data": {
      "text/html": [
       "<table>\n",
       "<tbody><tr><th>ID</th><th>YARN Application ID</th><th>Kind</th><th>State</th><th>Spark UI</th><th>Driver log</th><th>User</th><th>Current session?</th></tr><tr><td>8</td><td>application_1686375930022_0009</td><td>pyspark</td><td>idle</td><td><a target=\"_blank\" href=\"http://ip-172-31-43-221.ec2.internal:20888/proxy/application_1686375930022_0009/\" class=\"emr-proxy-link j-1DDS27DCVOE09 application_1686375930022_0009\" emr-resource=\"j-1DDS27DCVOE09\n",
       "\" application-id=\"application_1686375930022_0009\">Link</a></td><td><a target=\"_blank\" href=\"http://ip-172-31-32-132.ec2.internal:8042/node/containerlogs/container_1686375930022_0009_01_000001/livy\">Link</a></td><td>None</td><td>✔</td></tr></tbody></table>"
      ],
      "text/plain": [
       "<IPython.core.display.HTML object>"
      ]
     },
     "metadata": {},
     "output_type": "display_data"
    },
    {
     "data": {
      "application/vnd.jupyter.widget-view+json": {
       "model_id": "",
       "version_major": 2,
       "version_minor": 0
      },
      "text/plain": [
       "FloatProgress(value=0.0, bar_style='info', description='Progress:', layout=Layout(height='25px', width='50%'),…"
      ]
     },
     "metadata": {},
     "output_type": "display_data"
    },
    {
     "name": "stdout",
     "output_type": "stream",
     "text": [
      "SparkSession available as 'spark'.\n"
     ]
    },
    {
     "data": {
      "application/vnd.jupyter.widget-view+json": {
       "model_id": "",
       "version_major": 2,
       "version_minor": 0
      },
      "text/plain": [
       "FloatProgress(value=0.0, bar_style='info', description='Progress:', layout=Layout(height='25px', width='50%'),…"
      ]
     },
     "metadata": {},
     "output_type": "display_data"
    }
   ],
   "source": [
    "#"
   ]
  },
  {
   "cell_type": "code",
   "execution_count": 2,
   "id": "8edeb055-5b46-4507-8f29-951b8c2e47ae",
   "metadata": {
    "execution": {
     "iopub.execute_input": "2023-06-10T11:08:49.234588Z",
     "iopub.status.busy": "2023-06-10T11:08:49.234243Z",
     "iopub.status.idle": "2023-06-10T11:09:04.538514Z",
     "shell.execute_reply": "2023-06-10T11:09:04.537768Z",
     "shell.execute_reply.started": "2023-06-10T11:08:49.234554Z"
    },
    "tags": []
   },
   "outputs": [
    {
     "data": {
      "application/vnd.jupyter.widget-view+json": {
       "model_id": "3dc57e13e5fa4ad5b4b3fd691bb1e83b",
       "version_major": 2,
       "version_minor": 0
      },
      "text/plain": [
       "VBox()"
      ]
     },
     "metadata": {},
     "output_type": "display_data"
    },
    {
     "data": {
      "application/vnd.jupyter.widget-view+json": {
       "model_id": "",
       "version_major": 2,
       "version_minor": 0
      },
      "text/plain": [
       "FloatProgress(value=0.0, bar_style='info', description='Progress:', layout=Layout(height='25px', width='50%'),…"
      ]
     },
     "metadata": {},
     "output_type": "display_data"
    },
    {
     "name": "stdout",
     "output_type": "stream",
     "text": [
      "Collecting boto3\n",
      "  Downloading boto3-1.26.151-py3-none-any.whl (135 kB)\n",
      "Collecting s3transfer<0.7.0,>=0.6.0\n",
      "  Downloading s3transfer-0.6.1-py3-none-any.whl (79 kB)\n",
      "Collecting botocore<1.30.0,>=1.29.151\n",
      "  Downloading botocore-1.29.151-py3-none-any.whl (10.9 MB)\n",
      "Requirement already satisfied: jmespath<2.0.0,>=0.7.1 in /usr/local/lib/python3.7/site-packages (from boto3) (1.0.1)\n",
      "Collecting urllib3<1.27,>=1.25.4\n",
      "  Downloading urllib3-1.26.16-py2.py3-none-any.whl (143 kB)\n",
      "Collecting python-dateutil<3.0.0,>=2.1\n",
      "  Downloading python_dateutil-2.8.2-py2.py3-none-any.whl (247 kB)\n",
      "Requirement already satisfied: six>=1.5 in /usr/local/lib/python3.7/site-packages (from python-dateutil<3.0.0,>=2.1->botocore<1.30.0,>=1.29.151->boto3) (1.13.0)\n",
      "Installing collected packages: urllib3, python-dateutil, botocore, s3transfer, boto3\n",
      "Successfully installed boto3-1.26.151 botocore-1.29.151 python-dateutil-2.8.2 s3transfer-0.6.1 urllib3-1.26.16\n",
      "\n",
      "WARNING: The directory '/home/.cache/pip' or its parent directory is not owned or is not writable by the current user. The cache has been disabled. Check the permissions and owner of that directory. If executing pip with sudo, you may want sudo's -H flag."
     ]
    }
   ],
   "source": [
    "sc.install_pypi_package('boto3')"
   ]
  },
  {
   "cell_type": "markdown",
   "id": "e930eaf1-b9f5-4882-b790-805be1b9d52a",
   "metadata": {},
   "source": [
    "## Extract the `json` files"
   ]
  },
  {
   "cell_type": "code",
   "execution_count": 3,
   "id": "e7579abc-5134-4ebd-aef6-15e6408f9c5a",
   "metadata": {
    "execution": {
     "iopub.execute_input": "2023-06-10T11:09:04.540122Z",
     "iopub.status.busy": "2023-06-10T11:09:04.539891Z",
     "iopub.status.idle": "2023-06-10T11:09:04.786314Z",
     "shell.execute_reply": "2023-06-10T11:09:04.785458Z",
     "shell.execute_reply.started": "2023-06-10T11:09:04.540099Z"
    },
    "tags": []
   },
   "outputs": [
    {
     "data": {
      "application/vnd.jupyter.widget-view+json": {
       "model_id": "54cba7fd0a5744c7954d914cdef6025c",
       "version_major": 2,
       "version_minor": 0
      },
      "text/plain": [
       "VBox()"
      ]
     },
     "metadata": {},
     "output_type": "display_data"
    },
    {
     "data": {
      "application/vnd.jupyter.widget-view+json": {
       "model_id": "",
       "version_major": 2,
       "version_minor": 0
      },
      "text/plain": [
       "FloatProgress(value=0.0, bar_style='info', description='Progress:', layout=Layout(height='25px', width='50%'),…"
      ]
     },
     "metadata": {},
     "output_type": "display_data"
    }
   ],
   "source": [
    "import boto3\n",
    "import tarfile"
   ]
  },
  {
   "cell_type": "code",
   "execution_count": 7,
   "id": "96cfd3fe-9511-4f1e-a70c-a6098c34c687",
   "metadata": {
    "execution": {
     "iopub.execute_input": "2023-06-10T11:15:08.825487Z",
     "iopub.status.busy": "2023-06-10T11:15:08.825176Z",
     "iopub.status.idle": "2023-06-10T11:15:08.867652Z",
     "shell.execute_reply": "2023-06-10T11:15:08.866825Z",
     "shell.execute_reply.started": "2023-06-10T11:15:08.825461Z"
    },
    "tags": []
   },
   "outputs": [
    {
     "data": {
      "application/vnd.jupyter.widget-view+json": {
       "model_id": "5f030e201f0c4de39db6dbee23bb768b",
       "version_major": 2,
       "version_minor": 0
      },
      "text/plain": [
       "VBox()"
      ]
     },
     "metadata": {},
     "output_type": "display_data"
    },
    {
     "data": {
      "application/vnd.jupyter.widget-view+json": {
       "model_id": "",
       "version_major": 2,
       "version_minor": 0
      },
      "text/plain": [
       "FloatProgress(value=0.0, bar_style='info', description='Progress:', layout=Layout(height='25px', width='50%'),…"
      ]
     },
     "metadata": {},
     "output_type": "display_data"
    }
   ],
   "source": [
    "def extract_json(day):\n",
    "    \"\"\"\n",
    "    Extract the json files from the source bucket to the destination bucket.\n",
    "    \"\"\"\n",
    "    global s3\n",
    "    \n",
    "    bucket_name = 'ai2-semanticscholar-cord-19'\n",
    "    dst_bucket = 'bdcc2023-lab2-jwong'\n",
    "    file_key = f'2020-12-0{day}/document_parses.tar.gz'\n",
    "    destination_folder = 'e-15ZHHQNC8TSKL9JVQ7ZZ6OU54/2020-12/'\n",
    "    tmp = '/tmp/file.tar.gz'\n",
    "\n",
    "    s3.download_file(bucket_name, file_key, tmp)\n",
    "    print('Downloaded. . .')\n",
    "    with tarfile.open(tmp, 'r:gz') as tar:\n",
    "        tar.extractall()\n",
    "        print('Extracted. . .')\n",
    "        print('Uploading. . .')\n",
    "        for extracted_file in tar.getnames():\n",
    "            s3.upload_file(\n",
    "                Filename=f'{extracted_file}',\n",
    "                Bucket=dst_bucket,\n",
    "                Key=f\"{destination_folder}{day}/{extracted_file}\"\n",
    "            )\n",
    "        print('Uploaded. . .')\n",
    "    os.remove(tmp)"
   ]
  },
  {
   "cell_type": "code",
   "execution_count": 5,
   "id": "8dba7f96-f7f3-4ced-8048-99076e8ae34a",
   "metadata": {
    "execution": {
     "iopub.execute_input": "2023-06-10T11:09:04.829238Z",
     "iopub.status.busy": "2023-06-10T11:09:04.828916Z",
     "iopub.status.idle": "2023-06-10T11:09:05.071330Z",
     "shell.execute_reply": "2023-06-10T11:09:05.070432Z",
     "shell.execute_reply.started": "2023-06-10T11:09:04.829204Z"
    },
    "tags": []
   },
   "outputs": [
    {
     "data": {
      "application/vnd.jupyter.widget-view+json": {
       "model_id": "9e25ae18b14942b2b26eff1526917b32",
       "version_major": 2,
       "version_minor": 0
      },
      "text/plain": [
       "VBox()"
      ]
     },
     "metadata": {},
     "output_type": "display_data"
    },
    {
     "data": {
      "application/vnd.jupyter.widget-view+json": {
       "model_id": "",
       "version_major": 2,
       "version_minor": 0
      },
      "text/plain": [
       "FloatProgress(value=0.0, bar_style='info', description='Progress:', layout=Layout(height='25px', width='50%'),…"
      ]
     },
     "metadata": {},
     "output_type": "display_data"
    }
   ],
   "source": [
    "# Set up the S3 client\n",
    "s3 = boto3.client('s3')"
   ]
  },
  {
   "cell_type": "code",
   "execution_count": null,
   "id": "3baf4fc6-6eae-4e34-b644-31cdc8319e20",
   "metadata": {},
   "outputs": [],
   "source": [
    "extract_json(1)"
   ]
  },
  {
   "cell_type": "code",
   "execution_count": null,
   "id": "6db47fd0-2886-4d14-91a9-230c5bbc4550",
   "metadata": {
    "execution": {
     "iopub.execute_input": "2023-06-10T11:15:16.966639Z",
     "iopub.status.busy": "2023-06-10T11:15:16.966334Z"
    },
    "tags": []
   },
   "outputs": [
    {
     "data": {
      "application/vnd.jupyter.widget-view+json": {
       "model_id": "3126fac1aa9f481da2535b8e2d80b457",
       "version_major": 2,
       "version_minor": 0
      },
      "text/plain": [
       "VBox()"
      ]
     },
     "metadata": {},
     "output_type": "display_data"
    },
    {
     "data": {
      "application/vnd.jupyter.widget-view+json": {
       "model_id": "398ef3c2358a49e1b47b3ac79338cdef",
       "version_major": 2,
       "version_minor": 0
      },
      "text/plain": [
       "FloatProgress(value=0.0, bar_style='info', description='Progress:', layout=Layout(height='25px', width='50%'),…"
      ]
     },
     "metadata": {},
     "output_type": "display_data"
    }
   ],
   "source": [
    "extract_json(3)"
   ]
  },
  {
   "cell_type": "code",
   "execution_count": null,
   "id": "fc9c4380-e5bc-4128-9452-727ac974caf3",
   "metadata": {},
   "outputs": [],
   "source": [
    "extract_json(4)"
   ]
  },
  {
   "cell_type": "code",
   "execution_count": null,
   "id": "7147fcdc-da57-43a5-9689-609afd7027ed",
   "metadata": {},
   "outputs": [],
   "source": [
    "extract_json(5)"
   ]
  },
  {
   "cell_type": "code",
   "execution_count": null,
   "id": "b6cdfd41-1217-4bf1-bd75-f42d604c9deb",
   "metadata": {},
   "outputs": [],
   "source": [
    "extract_json(6)"
   ]
  },
  {
   "cell_type": "markdown",
   "id": "d3264ab0-97a5-4bf0-8988-b0e2b4693f14",
   "metadata": {
    "jp-MarkdownHeadingCollapsed": true,
    "tags": []
   },
   "source": [
    "## Extract using binary"
   ]
  },
  {
   "cell_type": "code",
   "execution_count": null,
   "id": "06ad11c7-7f06-4fc4-b39f-48788c64eaba",
   "metadata": {},
   "outputs": [
    {
     "data": {
      "application/vnd.jupyter.widget-view+json": {
       "model_id": "",
       "version_major": 2,
       "version_minor": 0
      },
      "text/plain": [
       "VBox()"
      ]
     },
     "metadata": {},
     "output_type": "display_data"
    },
    {
     "data": {
      "application/vnd.jupyter.widget-view+json": {
       "model_id": "",
       "version_major": 2,
       "version_minor": 0
      },
      "text/plain": [
       "FloatProgress(value=0.0, bar_style='info', description='Progress:', layout=Layout(height='25px', width='50%'),…"
      ]
     },
     "metadata": {},
     "output_type": "display_data"
    }
   ],
   "source": [
    "# Read the .tar.gz file using SparkContext\n",
    "tar_path = 's3://ai2-semanticscholar-cord-19/2020-12-01/document_parses.tar.gz'\n",
    "\n",
    "files_rdd = sc.wholeTextFiles(tar_path)\n",
    "\n",
    "# Extract the JSON contents from the RDD\n",
    "json_rdd = files_rdd.flatMap(lambda x: x[1].split('\\n'))\n",
    "\n",
    "# Convert RDD to DataFrame\n",
    "df = spark.read.json(json_rdd)"
   ]
  },
  {
   "cell_type": "code",
   "execution_count": null,
   "id": "ab898be0-f9fc-4b51-be7c-9ffdd2a023b6",
   "metadata": {},
   "outputs": [
    {
     "data": {
      "application/vnd.jupyter.widget-view+json": {
       "model_id": "",
       "version_major": 2,
       "version_minor": 0
      },
      "text/plain": [
       "VBox()"
      ]
     },
     "metadata": {},
     "output_type": "display_data"
    },
    {
     "data": {
      "application/vnd.jupyter.widget-view+json": {
       "model_id": "",
       "version_major": 2,
       "version_minor": 0
      },
      "text/plain": [
       "FloatProgress(value=0.0, bar_style='info', description='Progress:', layout=Layout(height='25px', width='50%'),…"
      ]
     },
     "metadata": {},
     "output_type": "display_data"
    },
    {
     "name": "stderr",
     "output_type": "stream",
     "text": [
      "An error was encountered:\n",
      "[Errno 2] No such file or directory: 's3://ai2-semanticscholar-cord-19/2020-12-01/document_parses.tar.gz'\n",
      "Traceback (most recent call last):\n",
      "FileNotFoundError: [Errno 2] No such file or directory: 's3://ai2-semanticscholar-cord-19/2020-12-01/document_parses.tar.gz'\n",
      "\n"
     ]
    }
   ],
   "source": [
    "import tarfile\n",
    "from io import BytesIO\n",
    "from pyspark.sql import SparkSession\n",
    "\n",
    "# Create a SparkSession\n",
    "spark = SparkSession.builder.getOrCreate()\n",
    "\n",
    "# Read the .tar.gz file as a binary stream\n",
    "tar_stream = open('s3://ai2-semanticscholar-cord-19/2020-12-01/document_parses.tar.gz', 'rb')\n",
    "\n",
    "# Extract JSON file paths from the .tar.gz file\n",
    "file_paths = []\n",
    "# with tarfile.open(fileobj=tar_stream, mode='r:gz') as tar:\n",
    "#     for member in tar.getmembers():\n",
    "#         if member.isfile() and (member.name.endswith('.json') or member.name.endswith('.jsonl')):\n",
    "#             file_paths.append(member.name)\n",
    "\n",
    "# # Read the JSON files using Spark\n",
    "# json_rdd = spark.sparkContext.binaryFiles('path/to/your/file.tar.gz') \\\n",
    "#     .flatMap(lambda x: [(file_path, BytesIO(x[1].value).read().decode('utf-8'))\n",
    "#                         for file_path in file_paths])\n",
    "\n",
    "# # Convert RDD to DataFrame\n",
    "# df = spark.read.json(json_rdd.values())\n",
    "\n",
    "# # Show the loaded data\n",
    "# df.show()\n"
   ]
  },
  {
   "cell_type": "code",
   "execution_count": null,
   "id": "b9f568fe-1740-4a64-b7ed-56ea73843eef",
   "metadata": {},
   "outputs": [],
   "source": [
    "# Show the loaded data\n",
    "df.show()"
   ]
  },
  {
   "cell_type": "code",
   "execution_count": 10,
   "id": "05fb8f48-ec83-4a0e-9862-8545e131895c",
   "metadata": {
    "execution": {
     "iopub.execute_input": "2023-06-10T09:32:00.179726Z",
     "iopub.status.busy": "2023-06-10T09:32:00.179422Z",
     "iopub.status.idle": "2023-06-10T09:32:00.932694Z",
     "shell.execute_reply": "2023-06-10T09:32:00.931802Z",
     "shell.execute_reply.started": "2023-06-10T09:32:00.179700Z"
    },
    "tags": []
   },
   "outputs": [
    {
     "data": {
      "application/vnd.jupyter.widget-view+json": {
       "model_id": "7190204a39f7442188b5b5fc87133c06",
       "version_major": 2,
       "version_minor": 0
      },
      "text/plain": [
       "VBox()"
      ]
     },
     "metadata": {},
     "output_type": "display_data"
    },
    {
     "data": {
      "application/vnd.jupyter.widget-view+json": {
       "model_id": "",
       "version_major": 2,
       "version_minor": 0
      },
      "text/plain": [
       "FloatProgress(value=0.0, bar_style='info', description='Progress:', layout=Layout(height='25px', width='50%'),…"
      ]
     },
     "metadata": {},
     "output_type": "display_data"
    }
   ],
   "source": [
    "\n",
    "# Set the path to your .tar.gz file\n",
    "file_path = 's3://ai2-semanticscholar-cord-19/2020-12-01/document_parses.tar.gz'\n",
    "\n",
    "# Create a DataFrame with the file paths and contents\n",
    "df = spark.read.text(file_path)\n"
   ]
  },
  {
   "cell_type": "code",
   "execution_count": null,
   "id": "b8960069-0f42-40b8-80f5-9580aa3907d4",
   "metadata": {},
   "outputs": [],
   "source": [
    "# Filter the DataFrame to include only the JSON files\n",
    "json_df = df.filter(df.value.endswith('.json') | df.value.endswith('.jsonl'))\n",
    "\n",
    "# Load the JSON files into a DataFrame\n",
    "json_data = spark.read.json(json_df.value)\n",
    "\n",
    "# Show the loaded data\n",
    "json_data.show()"
   ]
  },
  {
   "cell_type": "markdown",
   "id": "80fc9d98-1547-488b-ac7b-9f44e1014148",
   "metadata": {},
   "source": [
    "## Get counts"
   ]
  },
  {
   "cell_type": "code",
   "execution_count": null,
   "id": "952678c0-548d-4ac1-a7b0-b1b20c082c8c",
   "metadata": {},
   "outputs": [
    {
     "data": {
      "application/vnd.jupyter.widget-view+json": {
       "model_id": "3ca1a004b5994be7ac735caf704b3b33",
       "version_major": 2,
       "version_minor": 0
      },
      "text/plain": [
       "VBox()"
      ]
     },
     "metadata": {},
     "output_type": "display_data"
    },
    {
     "data": {
      "application/vnd.jupyter.widget-view+json": {
       "model_id": "",
       "version_major": 2,
       "version_minor": 0
      },
      "text/plain": [
       "FloatProgress(value=0.0, bar_style='info', description='Progress:', layout=Layout(height='25px', width='50%'),…"
      ]
     },
     "metadata": {},
     "output_type": "display_data"
    },
    {
     "name": "stdout",
     "output_type": "stream",
     "text": [
      "238021\n",
      "238082\n",
      "239408\n",
      "239278"
     ]
    }
   ],
   "source": [
    "from io import BytesIO\n",
    "\n",
    "# Set the S3 bucket and file path\n",
    "bucket_name = 'ai2-semanticscholar-cord-19'\n",
    "\n",
    "# Read the .tar.gz file as a binary stream from S3\n",
    "s3_client = boto3.client('s3')\n",
    "\n",
    "for i in [3, 4, 5, 6]:\n",
    "    file_key = f'2020-12-0{i}/document_parses.tar.gz'\n",
    "    response = s3_client.get_object(Bucket=bucket_name, Key=file_key)\n",
    "    tar_stream = BytesIO(response['Body'].read())\n",
    "\n",
    "    # Extract JSON file paths from the .tar.gz file\n",
    "    with tarfile.open(fileobj=tar_stream, mode='r:gz') as tar:\n",
    "        print(len(tar.getmembers()))"
   ]
  },
  {
   "cell_type": "code",
   "execution_count": 15,
   "id": "63fa02d3-574a-4644-9b9b-3b530c0a020f",
   "metadata": {
    "execution": {
     "iopub.execute_input": "2023-06-10T11:02:54.920341Z",
     "iopub.status.busy": "2023-06-10T11:02:54.920038Z",
     "iopub.status.idle": "2023-06-10T11:02:54.959278Z",
     "shell.execute_reply": "2023-06-10T11:02:54.958398Z",
     "shell.execute_reply.started": "2023-06-10T11:02:54.920316Z"
    },
    "tags": []
   },
   "outputs": [
    {
     "data": {
      "application/vnd.jupyter.widget-view+json": {
       "model_id": "e5edc7dd0e9c46129e369e35d27ab5af",
       "version_major": 2,
       "version_minor": 0
      },
      "text/plain": [
       "VBox()"
      ]
     },
     "metadata": {},
     "output_type": "display_data"
    },
    {
     "data": {
      "application/vnd.jupyter.widget-view+json": {
       "model_id": "",
       "version_major": 2,
       "version_minor": 0
      },
      "text/plain": [
       "FloatProgress(value=0.0, bar_style='info', description='Progress:', layout=Layout(height='25px', width='50%'),…"
      ]
     },
     "metadata": {},
     "output_type": "display_data"
    },
    {
     "name": "stdout",
     "output_type": "stream",
     "text": [
      "1191476"
     ]
    }
   ],
   "source": [
    "counts_dict = {\n",
    "    1: 236687,\n",
    "    3: 238021,\n",
    "    4: 238082,\n",
    "    5: 239408,\n",
    "    6: 239278\n",
    "}\n",
    "\n",
    "total_count = sum([val for val in counts_dict.values()])\n",
    "total_count"
   ]
  },
  {
   "cell_type": "code",
   "execution_count": 7,
   "id": "a68caaeb-9dd6-42f5-ae7e-a68e7f161b45",
   "metadata": {
    "execution": {
     "iopub.execute_input": "2023-06-10T10:52:46.169646Z",
     "iopub.status.busy": "2023-06-10T10:52:46.169335Z",
     "iopub.status.idle": "2023-06-10T10:52:46.922462Z",
     "shell.execute_reply": "2023-06-10T10:52:46.921619Z",
     "shell.execute_reply.started": "2023-06-10T10:52:46.169619Z"
    },
    "tags": []
   },
   "outputs": [
    {
     "data": {
      "application/vnd.jupyter.widget-view+json": {
       "model_id": "c8cabd1e253145729ba062efee8a655c",
       "version_major": 2,
       "version_minor": 0
      },
      "text/plain": [
       "VBox()"
      ]
     },
     "metadata": {},
     "output_type": "display_data"
    },
    {
     "data": {
      "application/vnd.jupyter.widget-view+json": {
       "model_id": "",
       "version_major": 2,
       "version_minor": 0
      },
      "text/plain": [
       "FloatProgress(value=0.0, bar_style='info', description='Progress:', layout=Layout(height='25px', width='50%'),…"
      ]
     },
     "metadata": {},
     "output_type": "display_data"
    },
    {
     "name": "stdout",
     "output_type": "stream",
     "text": [
      "1000"
     ]
    }
   ],
   "source": [
    "# Getting count of objects under a prefix in S3\n",
    "\n",
    "# Create a Boto3 S3 client\n",
    "s3_client = boto3.client('s3')\n",
    "\n",
    "# Specify the bucket and prefix\n",
    "bucket_name = 'bdcc2023-lab2-jwong'\n",
    "prefix = 'e-15ZHHQNC8TSKL9JVQ7ZZ6OU54/2020-12-01/document_parses/pmc_json/'\n",
    "\n",
    "# Call the list_objects_v2 API to retrieve the objects under the prefix\n",
    "response = s3_client.list_objects_v2(Bucket=bucket_name, Prefix=prefix)\n",
    "\n",
    "# Get the count of objects\n",
    "object_count = response['KeyCount']\n",
    "object_count"
   ]
  },
  {
   "cell_type": "markdown",
   "id": "1db78a46-e6b7-48e9-9836-c83c4f0fa94f",
   "metadata": {},
   "source": [
    "## Read json from temp"
   ]
  },
  {
   "cell_type": "code",
   "execution_count": null,
   "id": "50ad8183-56df-4443-8b05-04e62ff5421c",
   "metadata": {},
   "outputs": [],
   "source": []
  },
  {
   "cell_type": "code",
   "execution_count": null,
   "id": "e1fc1696-aacc-47a8-bc58-d7ca45cc7a1f",
   "metadata": {},
   "outputs": [],
   "source": []
  }
 ],
 "metadata": {
  "kernelspec": {
   "display_name": "PySpark",
   "language": "python",
   "name": "pysparkkernel"
  },
  "language_info": {
   "codemirror_mode": {
    "name": "python",
    "version": 3
   },
   "file_extension": ".py",
   "mimetype": "text/x-python",
   "name": "pyspark",
   "pygments_lexer": "python3"
  }
 },
 "nbformat": 4,
 "nbformat_minor": 5
}
