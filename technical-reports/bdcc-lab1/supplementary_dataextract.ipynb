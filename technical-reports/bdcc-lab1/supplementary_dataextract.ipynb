{
 "cells": [
  {
   "cell_type": "code",
   "execution_count": 3,
   "id": "59d6cab1",
   "metadata": {
    "ExecuteTime": {
     "end_time": "2023-05-14T19:42:57.434005Z",
     "start_time": "2023-05-14T19:42:56.184643Z"
    }
   },
   "outputs": [
    {
     "name": "stderr",
     "output_type": "stream",
     "text": [
      "/usr/local/spark/python/pyspark/pandas/__init__.py:49: UserWarning: 'PYARROW_IGNORE_TIMEZONE' environment variable was not set. It is required to set this environment variable to '1' in both driver and executor sides if you use pyarrow>=2.0.0. pandas-on-Spark will set it for you but it does not work if there is a Spark context already launched.\n",
      "  warnings.warn(\n"
     ]
    }
   ],
   "source": [
    "import numpy as np\n",
    "import pandas as pd\n",
    "\n",
    "import re\n",
    "\n",
    "from pyspark.sql import SparkSession\n",
    "import pyspark.sql.functions as F\n",
    "import pyspark.pandas as ps"
   ]
  },
  {
   "cell_type": "markdown",
   "id": "2a14851d",
   "metadata": {},
   "source": [
    "## Extract 16GB worth of data"
   ]
  },
  {
   "cell_type": "code",
   "execution_count": null,
   "id": "c3323d57",
   "metadata": {},
   "outputs": [],
   "source": [
    "filepath = '/mnt/data/public/opendota/matches.gz'\n",
    "destination = joblib.load('csv_filepath.pkl')"
   ]
  },
  {
   "cell_type": "code",
   "execution_count": null,
   "id": "7ead7329",
   "metadata": {},
   "outputs": [],
   "source": [
    "! zcat {filepath} | head -c 16G {destination}"
   ]
  },
  {
   "cell_type": "markdown",
   "id": "19e5a015",
   "metadata": {},
   "source": [
    "## Create parquet files from 16GB data"
   ]
  },
  {
   "cell_type": "code",
   "execution_count": 2,
   "id": "70d14870",
   "metadata": {
    "ExecuteTime": {
     "end_time": "2023-05-13T04:16:27.706981Z",
     "start_time": "2023-05-13T04:16:24.206565Z"
    }
   },
   "outputs": [
    {
     "name": "stderr",
     "output_type": "stream",
     "text": [
      "Setting default log level to \"WARN\".\n",
      "To adjust logging level use sc.setLogLevel(newLevel). For SparkR, use setLogLevel(newLevel).\n"
     ]
    },
    {
     "name": "stdout",
     "output_type": "stream",
     "text": [
      "23/05/13 04:16:26 WARN NativeCodeLoader: Unable to load native-hadoop library for your platform... using builtin-java classes where applicable\n"
     ]
    }
   ],
   "source": [
    "spark = (\n",
    "    SparkSession\n",
    "    .builder\n",
    "    .master('local[*]')\n",
    "    .getOrCreate()\n",
    ")"
   ]
  },
  {
   "cell_type": "code",
   "execution_count": 3,
   "id": "9dfb5c24",
   "metadata": {
    "ExecuteTime": {
     "end_time": "2023-05-13T04:16:31.948048Z",
     "start_time": "2023-05-13T04:16:27.711067Z"
    }
   },
   "outputs": [],
   "source": [
    "df_dota = spark.read.csv(\n",
    "    'data/matches-16gb.csv',\n",
    "    header=True\n",
    ")"
   ]
  },
  {
   "cell_type": "code",
   "execution_count": 4,
   "id": "35993c7e",
   "metadata": {
    "ExecuteTime": {
     "end_time": "2023-05-13T04:18:55.114883Z",
     "start_time": "2023-05-13T04:16:34.410504Z"
    }
   },
   "outputs": [
    {
     "name": "stdout",
     "output_type": "stream",
     "text": [
      "23/05/13 04:16:34 WARN package: Truncated the string representation of a plan since it was too large. This behavior can be adjusted by setting 'spark.sql.debug.maxToStringFields'.\n"
     ]
    },
    {
     "name": "stderr",
     "output_type": "stream",
     "text": [
      "                                                                                \r"
     ]
    }
   ],
   "source": [
    "(\n",
    "    df_dota\n",
    "    .write\n",
    "    .parquet(joblib.load('parquet_filepath.pkl'),\n",
    "             mode='overwrite',\n",
    "             partitionBy=['lobby_type'])\n",
    ")"
   ]
  },
  {
   "cell_type": "markdown",
   "id": "a03819b1",
   "metadata": {},
   "source": [
    "## Read parquet"
   ]
  },
  {
   "cell_type": "code",
   "execution_count": 5,
   "id": "f0b2216d",
   "metadata": {
    "ExecuteTime": {
     "end_time": "2023-05-13T04:14:28.768525Z",
     "start_time": "2023-05-13T04:13:44.479298Z"
    }
   },
   "outputs": [],
   "source": [
    "df_dota_parq = spark.read.parquet(\n",
    "    joblib.load('parquet_filepath.pkl')\n",
    ")"
   ]
  },
  {
   "cell_type": "code",
   "execution_count": 7,
   "id": "fb405fb2",
   "metadata": {
    "ExecuteTime": {
     "end_time": "2023-05-13T05:11:24.688339Z",
     "start_time": "2023-05-13T05:10:36.017812Z"
    }
   },
   "outputs": [
    {
     "name": "stderr",
     "output_type": "stream",
     "text": [
      "                                                                                \r"
     ]
    },
    {
     "data": {
      "text/plain": [
       "1780371"
      ]
     },
     "execution_count": 7,
     "metadata": {},
     "output_type": "execute_result"
    }
   ],
   "source": [
    "df_dota_parq.count()"
   ]
  }
 ],
 "metadata": {
  "kernelspec": {
   "display_name": "Python 3 (ipykernel)",
   "language": "python",
   "name": "python3"
  },
  "language_info": {
   "codemirror_mode": {
    "name": "ipython",
    "version": 3
   },
   "file_extension": ".py",
   "mimetype": "text/x-python",
   "name": "python",
   "nbconvert_exporter": "python",
   "pygments_lexer": "ipython3",
   "version": "3.9.12"
  },
  "latex_envs": {
   "LaTeX_envs_menu_present": true,
   "autoclose": false,
   "autocomplete": true,
   "bibliofile": "biblio.bib",
   "cite_by": "apalike",
   "current_citInitial": 1,
   "eqLabelWithNumbers": true,
   "eqNumInitial": 1,
   "hotkeys": {
    "equation": "Ctrl-E",
    "itemize": "Ctrl-I"
   },
   "labels_anchors": false,
   "latex_user_defs": false,
   "report_style_numbering": false,
   "user_envs_cfg": false
  },
  "toc": {
   "base_numbering": 1,
   "nav_menu": {},
   "number_sections": true,
   "sideBar": true,
   "skip_h1_title": true,
   "title_cell": "Table of Contents",
   "title_sidebar": "Contents",
   "toc_cell": false,
   "toc_position": {
    "height": "calc(100% - 180px)",
    "left": "10px",
    "top": "150px",
    "width": "299.038px"
   },
   "toc_section_display": true,
   "toc_window_display": false
  },
  "varInspector": {
   "cols": {
    "lenName": 16,
    "lenType": 16,
    "lenVar": 40
   },
   "kernels_config": {
    "python": {
     "delete_cmd_postfix": "",
     "delete_cmd_prefix": "del ",
     "library": "var_list.py",
     "varRefreshCmd": "print(var_dic_list())"
    },
    "r": {
     "delete_cmd_postfix": ") ",
     "delete_cmd_prefix": "rm(",
     "library": "var_list.r",
     "varRefreshCmd": "cat(var_dic_list()) "
    }
   },
   "types_to_exclude": [
    "module",
    "function",
    "builtin_function_or_method",
    "instance",
    "_Feature"
   ],
   "window_display": false
  }
 },
 "nbformat": 4,
 "nbformat_minor": 5
}
